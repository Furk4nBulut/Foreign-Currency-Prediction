{
 "cells": [
  {
   "cell_type": "code",
   "execution_count": 269,
   "id": "initial_id",
   "metadata": {
    "collapsed": true,
    "ExecuteTime": {
     "end_time": "2023-12-05T08:20:13.328336500Z",
     "start_time": "2023-12-05T08:20:12.842411400Z"
    }
   },
   "outputs": [
    {
     "data": {
      "text/plain": "                No  TP DK USD S YTL  TP DK EUR S YTL  TP DK GBP S YTL  \\\ncount  4757.000000      4733.000000      4733.000000      4733.000000   \nmean   2379.000000         4.741321         5.435227         6.440073   \nstd    1373.371945         5.673079         5.987151         6.860333   \nmin       1.000000         1.150400         1.557000         2.121500   \n25%    1190.000000         1.519300         2.073700         2.559800   \n50%    2379.000000         2.179600         2.838500         3.597300   \n75%    3568.000000         5.667800         6.309300         7.123900   \nmax    4757.000000        28.910400        31.656400        36.541100   \n\n       TP DK SEK S YTL  TP DK CHF S YTL  TP DK CAD S YTL  TP DK KWD S YTL  \\\ncount      4733.000000      4733.000000      4733.000000      4733.000000   \nmean          0.530649         4.985549         3.757192        15.821462   \nstd           0.526817         6.269771         4.182878        18.454100   \nmin           0.164560         0.994890         1.022500         4.213400   \n25%           0.208670         1.423200         1.396200         5.300100   \n50%           0.312010         2.383200         1.978200         7.695500   \n75%           0.598560         5.715700         4.289400        18.742400   \nmax           2.783000        32.902000        21.223600        94.281700   \n\n       TP DK SAR S YTL  \ncount      4733.000000  \nmean          1.263723  \nstd           1.511584  \nmin           0.306780  \n25%           0.405110  \n50%           0.581150  \n75%           1.511300  \nmax           7.708300  ",
      "text/html": "<div>\n<style scoped>\n    .dataframe tbody tr th:only-of-type {\n        vertical-align: middle;\n    }\n\n    .dataframe tbody tr th {\n        vertical-align: top;\n    }\n\n    .dataframe thead th {\n        text-align: right;\n    }\n</style>\n<table border=\"1\" class=\"dataframe\">\n  <thead>\n    <tr style=\"text-align: right;\">\n      <th></th>\n      <th>No</th>\n      <th>TP DK USD S YTL</th>\n      <th>TP DK EUR S YTL</th>\n      <th>TP DK GBP S YTL</th>\n      <th>TP DK SEK S YTL</th>\n      <th>TP DK CHF S YTL</th>\n      <th>TP DK CAD S YTL</th>\n      <th>TP DK KWD S YTL</th>\n      <th>TP DK SAR S YTL</th>\n    </tr>\n  </thead>\n  <tbody>\n    <tr>\n      <th>count</th>\n      <td>4757.000000</td>\n      <td>4733.000000</td>\n      <td>4733.000000</td>\n      <td>4733.000000</td>\n      <td>4733.000000</td>\n      <td>4733.000000</td>\n      <td>4733.000000</td>\n      <td>4733.000000</td>\n      <td>4733.000000</td>\n    </tr>\n    <tr>\n      <th>mean</th>\n      <td>2379.000000</td>\n      <td>4.741321</td>\n      <td>5.435227</td>\n      <td>6.440073</td>\n      <td>0.530649</td>\n      <td>4.985549</td>\n      <td>3.757192</td>\n      <td>15.821462</td>\n      <td>1.263723</td>\n    </tr>\n    <tr>\n      <th>std</th>\n      <td>1373.371945</td>\n      <td>5.673079</td>\n      <td>5.987151</td>\n      <td>6.860333</td>\n      <td>0.526817</td>\n      <td>6.269771</td>\n      <td>4.182878</td>\n      <td>18.454100</td>\n      <td>1.511584</td>\n    </tr>\n    <tr>\n      <th>min</th>\n      <td>1.000000</td>\n      <td>1.150400</td>\n      <td>1.557000</td>\n      <td>2.121500</td>\n      <td>0.164560</td>\n      <td>0.994890</td>\n      <td>1.022500</td>\n      <td>4.213400</td>\n      <td>0.306780</td>\n    </tr>\n    <tr>\n      <th>25%</th>\n      <td>1190.000000</td>\n      <td>1.519300</td>\n      <td>2.073700</td>\n      <td>2.559800</td>\n      <td>0.208670</td>\n      <td>1.423200</td>\n      <td>1.396200</td>\n      <td>5.300100</td>\n      <td>0.405110</td>\n    </tr>\n    <tr>\n      <th>50%</th>\n      <td>2379.000000</td>\n      <td>2.179600</td>\n      <td>2.838500</td>\n      <td>3.597300</td>\n      <td>0.312010</td>\n      <td>2.383200</td>\n      <td>1.978200</td>\n      <td>7.695500</td>\n      <td>0.581150</td>\n    </tr>\n    <tr>\n      <th>75%</th>\n      <td>3568.000000</td>\n      <td>5.667800</td>\n      <td>6.309300</td>\n      <td>7.123900</td>\n      <td>0.598560</td>\n      <td>5.715700</td>\n      <td>4.289400</td>\n      <td>18.742400</td>\n      <td>1.511300</td>\n    </tr>\n    <tr>\n      <th>max</th>\n      <td>4757.000000</td>\n      <td>28.910400</td>\n      <td>31.656400</td>\n      <td>36.541100</td>\n      <td>2.783000</td>\n      <td>32.902000</td>\n      <td>21.223600</td>\n      <td>94.281700</td>\n      <td>7.708300</td>\n    </tr>\n  </tbody>\n</table>\n</div>"
     },
     "execution_count": 269,
     "metadata": {},
     "output_type": "execute_result"
    }
   ],
   "source": [
    "import pandas as pd\n",
    "\n",
    "# Dosyayı yükleme\n",
    "file_path = 'C:/Users/FurkanBulut/Desktop/dataa.xlsx'\n",
    "data = pd.read_excel(file_path) \n",
    "\n",
    "\n",
    "# İlk beş satırı göster\n",
    "data.head()\n",
    "data.describe()"
   ]
  },
  {
   "cell_type": "code",
   "execution_count": 270,
   "outputs": [
    {
     "data": {
      "text/plain": "No                  0\nTarih              24\nTP DK USD S YTL    24\nTP DK EUR S YTL    24\nTP DK GBP S YTL    24\nTP DK SEK S YTL    24\nTP DK CHF S YTL    24\nTP DK CAD S YTL    24\nTP DK KWD S YTL    24\nTP DK SAR S YTL    24\ndtype: int64"
     },
     "execution_count": 270,
     "metadata": {},
     "output_type": "execute_result"
    }
   ],
   "source": [
    "data.isnull().sum() #eksik veri kontrolü yaptık\n"
   ],
   "metadata": {
    "collapsed": false,
    "ExecuteTime": {
     "end_time": "2023-12-05T08:20:13.343887Z",
     "start_time": "2023-12-05T08:20:13.328336500Z"
    }
   },
   "id": "4fcf1b5ab8633bdc"
  },
  {
   "cell_type": "code",
   "execution_count": 271,
   "outputs": [
    {
     "name": "stdout",
     "output_type": "stream",
     "text": [
      "Number of rows before removing missing values: 4757\n",
      "Number of rows after removing missing values: 4733\n"
     ]
    },
    {
     "data": {
      "text/plain": "                No  TP DK USD S YTL  TP DK EUR S YTL  TP DK GBP S YTL  \\\ncount  4733.000000      4733.000000      4733.000000      4733.000000   \nmean   2379.241918         4.741321         5.435227         6.440073   \nstd    1373.114025         5.673079         5.987151         6.860333   \nmin       1.000000         1.150400         1.557000         2.121500   \n25%    1191.000000         1.519300         2.073700         2.559800   \n50%    2379.000000         2.179600         2.838500         3.597300   \n75%    3568.000000         5.667800         6.309300         7.123900   \nmax    4757.000000        28.910400        31.656400        36.541100   \n\n       TP DK SEK S YTL  TP DK CHF S YTL  TP DK CAD S YTL  TP DK KWD S YTL  \\\ncount      4733.000000      4733.000000      4733.000000      4733.000000   \nmean          0.530649         4.985549         3.757192        15.821462   \nstd           0.526817         6.269771         4.182878        18.454100   \nmin           0.164560         0.994890         1.022500         4.213400   \n25%           0.208670         1.423200         1.396200         5.300100   \n50%           0.312010         2.383200         1.978200         7.695500   \n75%           0.598560         5.715700         4.289400        18.742400   \nmax           2.783000        32.902000        21.223600        94.281700   \n\n       TP DK SAR S YTL  \ncount      4733.000000  \nmean          1.263723  \nstd           1.511584  \nmin           0.306780  \n25%           0.405110  \n50%           0.581150  \n75%           1.511300  \nmax           7.708300  ",
      "text/html": "<div>\n<style scoped>\n    .dataframe tbody tr th:only-of-type {\n        vertical-align: middle;\n    }\n\n    .dataframe tbody tr th {\n        vertical-align: top;\n    }\n\n    .dataframe thead th {\n        text-align: right;\n    }\n</style>\n<table border=\"1\" class=\"dataframe\">\n  <thead>\n    <tr style=\"text-align: right;\">\n      <th></th>\n      <th>No</th>\n      <th>TP DK USD S YTL</th>\n      <th>TP DK EUR S YTL</th>\n      <th>TP DK GBP S YTL</th>\n      <th>TP DK SEK S YTL</th>\n      <th>TP DK CHF S YTL</th>\n      <th>TP DK CAD S YTL</th>\n      <th>TP DK KWD S YTL</th>\n      <th>TP DK SAR S YTL</th>\n    </tr>\n  </thead>\n  <tbody>\n    <tr>\n      <th>count</th>\n      <td>4733.000000</td>\n      <td>4733.000000</td>\n      <td>4733.000000</td>\n      <td>4733.000000</td>\n      <td>4733.000000</td>\n      <td>4733.000000</td>\n      <td>4733.000000</td>\n      <td>4733.000000</td>\n      <td>4733.000000</td>\n    </tr>\n    <tr>\n      <th>mean</th>\n      <td>2379.241918</td>\n      <td>4.741321</td>\n      <td>5.435227</td>\n      <td>6.440073</td>\n      <td>0.530649</td>\n      <td>4.985549</td>\n      <td>3.757192</td>\n      <td>15.821462</td>\n      <td>1.263723</td>\n    </tr>\n    <tr>\n      <th>std</th>\n      <td>1373.114025</td>\n      <td>5.673079</td>\n      <td>5.987151</td>\n      <td>6.860333</td>\n      <td>0.526817</td>\n      <td>6.269771</td>\n      <td>4.182878</td>\n      <td>18.454100</td>\n      <td>1.511584</td>\n    </tr>\n    <tr>\n      <th>min</th>\n      <td>1.000000</td>\n      <td>1.150400</td>\n      <td>1.557000</td>\n      <td>2.121500</td>\n      <td>0.164560</td>\n      <td>0.994890</td>\n      <td>1.022500</td>\n      <td>4.213400</td>\n      <td>0.306780</td>\n    </tr>\n    <tr>\n      <th>25%</th>\n      <td>1191.000000</td>\n      <td>1.519300</td>\n      <td>2.073700</td>\n      <td>2.559800</td>\n      <td>0.208670</td>\n      <td>1.423200</td>\n      <td>1.396200</td>\n      <td>5.300100</td>\n      <td>0.405110</td>\n    </tr>\n    <tr>\n      <th>50%</th>\n      <td>2379.000000</td>\n      <td>2.179600</td>\n      <td>2.838500</td>\n      <td>3.597300</td>\n      <td>0.312010</td>\n      <td>2.383200</td>\n      <td>1.978200</td>\n      <td>7.695500</td>\n      <td>0.581150</td>\n    </tr>\n    <tr>\n      <th>75%</th>\n      <td>3568.000000</td>\n      <td>5.667800</td>\n      <td>6.309300</td>\n      <td>7.123900</td>\n      <td>0.598560</td>\n      <td>5.715700</td>\n      <td>4.289400</td>\n      <td>18.742400</td>\n      <td>1.511300</td>\n    </tr>\n    <tr>\n      <th>max</th>\n      <td>4757.000000</td>\n      <td>28.910400</td>\n      <td>31.656400</td>\n      <td>36.541100</td>\n      <td>2.783000</td>\n      <td>32.902000</td>\n      <td>21.223600</td>\n      <td>94.281700</td>\n      <td>7.708300</td>\n    </tr>\n  </tbody>\n</table>\n</div>"
     },
     "execution_count": 271,
     "metadata": {},
     "output_type": "execute_result"
    }
   ],
   "source": [
    "# Check for missing values\n",
    "missing_values = data.isnull().sum()\n",
    "\n",
    "# Remove rows with missing values\n",
    "data_cleaned = data.dropna()\n",
    "\n",
    "# Display the number of rows before and after removing missing values\n",
    "print(\"Number of rows before removing missing values:\", len(data))\n",
    "print(\"Number of rows after removing missing values:\", len(data_cleaned))\n",
    "data_cleaned.describe()\n"
   ],
   "metadata": {
    "collapsed": false,
    "ExecuteTime": {
     "end_time": "2023-12-05T08:20:13.656356Z",
     "start_time": "2023-12-05T08:20:13.609099400Z"
    }
   },
   "id": "1a51d6af0fc69e2"
  },
  {
   "cell_type": "code",
   "execution_count": 272,
   "outputs": [
    {
     "name": "stdout",
     "output_type": "stream",
     "text": [
      "['No', 'Tarih', 'TP DK USD S YTL', 'TP DK EUR S YTL', 'TP DK GBP S YTL', 'TP DK SEK S YTL', 'TP DK CHF S YTL', 'TP DK CAD S YTL', 'TP DK KWD S YTL', 'TP DK SAR S YTL']\n"
     ]
    }
   ],
   "source": [
    "print(data_cleaned.columns.tolist())"
   ],
   "metadata": {
    "collapsed": false,
    "ExecuteTime": {
     "end_time": "2023-12-05T08:20:14.020447100Z",
     "start_time": "2023-12-05T08:20:14.004885400Z"
    }
   },
   "id": "f15c6669c618adb0"
  },
  {
   "cell_type": "code",
   "execution_count": 273,
   "outputs": [],
   "source": [
    "features  = ['No', 'TP DK USD S YTL', 'TP DK EUR S YTL', 'TP DK GBP S YTL', 'TP DK SEK S YTL', 'TP DK CHF S YTL', 'TP DK CAD S YTL', 'TP DK KWD S YTL']\n",
    "target  = ['TP DK SAR S YTL']\n",
    "\n",
    "X = data_cleaned[features]\n",
    "y = data_cleaned[target]\n"
   ],
   "metadata": {
    "collapsed": false,
    "ExecuteTime": {
     "end_time": "2023-12-05T08:20:14.575758500Z",
     "start_time": "2023-12-05T08:20:14.560083Z"
    }
   },
   "id": "1563894c3941e6eb"
  },
  {
   "cell_type": "code",
   "execution_count": 274,
   "outputs": [
    {
     "data": {
      "text/plain": "   No  TP DK USD S YTL  TP DK EUR S YTL  TP DK GBP S YTL  TP DK SEK S YTL  \\\n0   1           1.3427           1.8321           2.5928          0.20307   \n1   2           1.3448           1.8192           2.5695          0.20226   \n2   3           1.3492           1.8063           2.5586          0.19989   \n3   4           1.3841           1.8337           2.5985          0.20251   \n4   5           1.4068           1.8549           2.6347          0.20532   \n\n   TP DK CHF S YTL  TP DK CAD S YTL  TP DK KWD S YTL  \n0           1.1872           1.1152           4.5548  \n1           1.1785           1.1147           4.6052  \n2           1.1677           1.1120           4.6202  \n3           1.1807           1.1277           4.7401  \n4           1.1961           1.1433           4.8175  ",
      "text/html": "<div>\n<style scoped>\n    .dataframe tbody tr th:only-of-type {\n        vertical-align: middle;\n    }\n\n    .dataframe tbody tr th {\n        vertical-align: top;\n    }\n\n    .dataframe thead th {\n        text-align: right;\n    }\n</style>\n<table border=\"1\" class=\"dataframe\">\n  <thead>\n    <tr style=\"text-align: right;\">\n      <th></th>\n      <th>No</th>\n      <th>TP DK USD S YTL</th>\n      <th>TP DK EUR S YTL</th>\n      <th>TP DK GBP S YTL</th>\n      <th>TP DK SEK S YTL</th>\n      <th>TP DK CHF S YTL</th>\n      <th>TP DK CAD S YTL</th>\n      <th>TP DK KWD S YTL</th>\n    </tr>\n  </thead>\n  <tbody>\n    <tr>\n      <th>0</th>\n      <td>1</td>\n      <td>1.3427</td>\n      <td>1.8321</td>\n      <td>2.5928</td>\n      <td>0.20307</td>\n      <td>1.1872</td>\n      <td>1.1152</td>\n      <td>4.5548</td>\n    </tr>\n    <tr>\n      <th>1</th>\n      <td>2</td>\n      <td>1.3448</td>\n      <td>1.8192</td>\n      <td>2.5695</td>\n      <td>0.20226</td>\n      <td>1.1785</td>\n      <td>1.1147</td>\n      <td>4.6052</td>\n    </tr>\n    <tr>\n      <th>2</th>\n      <td>3</td>\n      <td>1.3492</td>\n      <td>1.8063</td>\n      <td>2.5586</td>\n      <td>0.19989</td>\n      <td>1.1677</td>\n      <td>1.1120</td>\n      <td>4.6202</td>\n    </tr>\n    <tr>\n      <th>3</th>\n      <td>4</td>\n      <td>1.3841</td>\n      <td>1.8337</td>\n      <td>2.5985</td>\n      <td>0.20251</td>\n      <td>1.1807</td>\n      <td>1.1277</td>\n      <td>4.7401</td>\n    </tr>\n    <tr>\n      <th>4</th>\n      <td>5</td>\n      <td>1.4068</td>\n      <td>1.8549</td>\n      <td>2.6347</td>\n      <td>0.20532</td>\n      <td>1.1961</td>\n      <td>1.1433</td>\n      <td>4.8175</td>\n    </tr>\n  </tbody>\n</table>\n</div>"
     },
     "execution_count": 274,
     "metadata": {},
     "output_type": "execute_result"
    }
   ],
   "source": [
    "X.head()"
   ],
   "metadata": {
    "collapsed": false,
    "ExecuteTime": {
     "end_time": "2023-12-05T08:20:14.953086100Z",
     "start_time": "2023-12-05T08:20:14.906385500Z"
    }
   },
   "id": "b7bfdb9a2aaf68e5"
  },
  {
   "cell_type": "code",
   "execution_count": 275,
   "outputs": [
    {
     "data": {
      "text/plain": "   TP DK SAR S YTL\n0          0.35800\n1          0.35858\n2          0.35977\n3          0.36907\n4          0.37513",
      "text/html": "<div>\n<style scoped>\n    .dataframe tbody tr th:only-of-type {\n        vertical-align: middle;\n    }\n\n    .dataframe tbody tr th {\n        vertical-align: top;\n    }\n\n    .dataframe thead th {\n        text-align: right;\n    }\n</style>\n<table border=\"1\" class=\"dataframe\">\n  <thead>\n    <tr style=\"text-align: right;\">\n      <th></th>\n      <th>TP DK SAR S YTL</th>\n    </tr>\n  </thead>\n  <tbody>\n    <tr>\n      <th>0</th>\n      <td>0.35800</td>\n    </tr>\n    <tr>\n      <th>1</th>\n      <td>0.35858</td>\n    </tr>\n    <tr>\n      <th>2</th>\n      <td>0.35977</td>\n    </tr>\n    <tr>\n      <th>3</th>\n      <td>0.36907</td>\n    </tr>\n    <tr>\n      <th>4</th>\n      <td>0.37513</td>\n    </tr>\n  </tbody>\n</table>\n</div>"
     },
     "execution_count": 275,
     "metadata": {},
     "output_type": "execute_result"
    }
   ],
   "source": [
    "y.head()"
   ],
   "metadata": {
    "collapsed": false,
    "ExecuteTime": {
     "end_time": "2023-12-05T08:20:15.370960700Z",
     "start_time": "2023-12-05T08:20:15.354925900Z"
    }
   },
   "id": "ac038e52ba296866"
  },
  {
   "cell_type": "code",
   "execution_count": 276,
   "outputs": [
    {
     "data": {
      "text/plain": "      No       Tarih  TP DK USD S YTL  TP DK EUR S YTL  TP DK GBP S YTL  \\\n0      1  03-01-2005           1.3427           1.8321           2.5928   \n1      2  04-01-2005           1.3448           1.8192           2.5695   \n2      3  05-01-2005           1.3492           1.8063           2.5586   \n3      4  06-01-2005           1.3841           1.8337           2.5985   \n4      5  07-01-2005           1.4068           1.8549           2.6347   \n..   ...         ...              ...              ...              ...   \n498  499  21-12-2006           1.4293           1.8898           2.8180   \n499  500  22-12-2006           1.4285           1.8838           2.8076   \n500  501  25-12-2006           1.4254           1.8815           2.8015   \n501  502  26-12-2006           1.4291           1.8776           2.8083   \n502  503  27-12-2006           1.4266           1.8740           2.7951   \n\n     TP DK SEK S YTL  TP DK CHF S YTL  TP DK CAD S YTL  TP DK KWD S YTL  \\\n0            0.20307           1.1872           1.1152           4.5548   \n1            0.20226           1.1785           1.1147           4.6052   \n2            0.19989           1.1677           1.1120           4.6202   \n3            0.20251           1.1807           1.1277           4.7401   \n4            0.20532           1.1961           1.1433           4.8175   \n..               ...              ...              ...              ...   \n498          0.20983           1.1777           1.2421           4.9431   \n499          0.20977           1.1743           1.2431           4.9403   \n500          0.20953           1.1741           1.2345           4.9298   \n501          0.20888           1.1721           1.2343           4.9426   \n502          0.20833           1.1698           1.2317           4.9338   \n\n     TP DK SAR S YTL  \n0            0.35800  \n1            0.35858  \n2            0.35977  \n3            0.36907  \n4            0.37513  \n..               ...  \n498          0.38112  \n499          0.38089  \n500          0.38008  \n501          0.38101  \n502          0.38038  \n\n[500 rows x 10 columns]",
      "text/html": "<div>\n<style scoped>\n    .dataframe tbody tr th:only-of-type {\n        vertical-align: middle;\n    }\n\n    .dataframe tbody tr th {\n        vertical-align: top;\n    }\n\n    .dataframe thead th {\n        text-align: right;\n    }\n</style>\n<table border=\"1\" class=\"dataframe\">\n  <thead>\n    <tr style=\"text-align: right;\">\n      <th></th>\n      <th>No</th>\n      <th>Tarih</th>\n      <th>TP DK USD S YTL</th>\n      <th>TP DK EUR S YTL</th>\n      <th>TP DK GBP S YTL</th>\n      <th>TP DK SEK S YTL</th>\n      <th>TP DK CHF S YTL</th>\n      <th>TP DK CAD S YTL</th>\n      <th>TP DK KWD S YTL</th>\n      <th>TP DK SAR S YTL</th>\n    </tr>\n  </thead>\n  <tbody>\n    <tr>\n      <th>0</th>\n      <td>1</td>\n      <td>03-01-2005</td>\n      <td>1.3427</td>\n      <td>1.8321</td>\n      <td>2.5928</td>\n      <td>0.20307</td>\n      <td>1.1872</td>\n      <td>1.1152</td>\n      <td>4.5548</td>\n      <td>0.35800</td>\n    </tr>\n    <tr>\n      <th>1</th>\n      <td>2</td>\n      <td>04-01-2005</td>\n      <td>1.3448</td>\n      <td>1.8192</td>\n      <td>2.5695</td>\n      <td>0.20226</td>\n      <td>1.1785</td>\n      <td>1.1147</td>\n      <td>4.6052</td>\n      <td>0.35858</td>\n    </tr>\n    <tr>\n      <th>2</th>\n      <td>3</td>\n      <td>05-01-2005</td>\n      <td>1.3492</td>\n      <td>1.8063</td>\n      <td>2.5586</td>\n      <td>0.19989</td>\n      <td>1.1677</td>\n      <td>1.1120</td>\n      <td>4.6202</td>\n      <td>0.35977</td>\n    </tr>\n    <tr>\n      <th>3</th>\n      <td>4</td>\n      <td>06-01-2005</td>\n      <td>1.3841</td>\n      <td>1.8337</td>\n      <td>2.5985</td>\n      <td>0.20251</td>\n      <td>1.1807</td>\n      <td>1.1277</td>\n      <td>4.7401</td>\n      <td>0.36907</td>\n    </tr>\n    <tr>\n      <th>4</th>\n      <td>5</td>\n      <td>07-01-2005</td>\n      <td>1.4068</td>\n      <td>1.8549</td>\n      <td>2.6347</td>\n      <td>0.20532</td>\n      <td>1.1961</td>\n      <td>1.1433</td>\n      <td>4.8175</td>\n      <td>0.37513</td>\n    </tr>\n    <tr>\n      <th>...</th>\n      <td>...</td>\n      <td>...</td>\n      <td>...</td>\n      <td>...</td>\n      <td>...</td>\n      <td>...</td>\n      <td>...</td>\n      <td>...</td>\n      <td>...</td>\n      <td>...</td>\n    </tr>\n    <tr>\n      <th>498</th>\n      <td>499</td>\n      <td>21-12-2006</td>\n      <td>1.4293</td>\n      <td>1.8898</td>\n      <td>2.8180</td>\n      <td>0.20983</td>\n      <td>1.1777</td>\n      <td>1.2421</td>\n      <td>4.9431</td>\n      <td>0.38112</td>\n    </tr>\n    <tr>\n      <th>499</th>\n      <td>500</td>\n      <td>22-12-2006</td>\n      <td>1.4285</td>\n      <td>1.8838</td>\n      <td>2.8076</td>\n      <td>0.20977</td>\n      <td>1.1743</td>\n      <td>1.2431</td>\n      <td>4.9403</td>\n      <td>0.38089</td>\n    </tr>\n    <tr>\n      <th>500</th>\n      <td>501</td>\n      <td>25-12-2006</td>\n      <td>1.4254</td>\n      <td>1.8815</td>\n      <td>2.8015</td>\n      <td>0.20953</td>\n      <td>1.1741</td>\n      <td>1.2345</td>\n      <td>4.9298</td>\n      <td>0.38008</td>\n    </tr>\n    <tr>\n      <th>501</th>\n      <td>502</td>\n      <td>26-12-2006</td>\n      <td>1.4291</td>\n      <td>1.8776</td>\n      <td>2.8083</td>\n      <td>0.20888</td>\n      <td>1.1721</td>\n      <td>1.2343</td>\n      <td>4.9426</td>\n      <td>0.38101</td>\n    </tr>\n    <tr>\n      <th>502</th>\n      <td>503</td>\n      <td>27-12-2006</td>\n      <td>1.4266</td>\n      <td>1.8740</td>\n      <td>2.7951</td>\n      <td>0.20833</td>\n      <td>1.1698</td>\n      <td>1.2317</td>\n      <td>4.9338</td>\n      <td>0.38038</td>\n    </tr>\n  </tbody>\n</table>\n<p>500 rows × 10 columns</p>\n</div>"
     },
     "execution_count": 276,
     "metadata": {},
     "output_type": "execute_result"
    }
   ],
   "source": [
    "data_cleaned.head(500)"
   ],
   "metadata": {
    "collapsed": false,
    "ExecuteTime": {
     "end_time": "2023-12-05T08:20:15.841715200Z",
     "start_time": "2023-12-05T08:20:15.826044900Z"
    }
   },
   "id": "2fd10d352db001f5"
  },
  {
   "cell_type": "code",
   "execution_count": 277,
   "outputs": [
    {
     "name": "stdout",
     "output_type": "stream",
     "text": [
      "No                        600\n",
      "Tarih              17-05-2007\n",
      "TP DK USD S YTL        1.3233\n",
      "TP DK EUR S YTL        1.7989\n",
      "TP DK GBP S YTL        2.6257\n",
      "TP DK SEK S YTL       0.19574\n",
      "TP DK CHF S YTL        1.0884\n",
      "TP DK CAD S YTL        1.2034\n",
      "TP DK KWD S YTL        4.5764\n",
      "TP DK SAR S YTL       0.35281\n",
      "Name: 599, dtype: object\n"
     ]
    }
   ],
   "source": [
    "print(data.iloc[599])"
   ],
   "metadata": {
    "collapsed": false,
    "ExecuteTime": {
     "end_time": "2023-12-05T08:20:16.630639400Z",
     "start_time": "2023-12-05T08:20:16.615044700Z"
    }
   },
   "id": "26a63a2d0833ad8c"
  },
  {
   "cell_type": "code",
   "execution_count": 278,
   "outputs": [
    {
     "name": "stdout",
     "output_type": "stream",
     "text": [
      "Epoch 0, Cost: 264.04341409254823\n",
      "Epoch 100, Cost: 1.269495639839444\n",
      "Epoch 200, Cost: 0.39322579340073854\n",
      "Epoch 300, Cost: 0.12180249185350425\n",
      "Epoch 400, Cost: 0.037729521726539976\n",
      "Epoch 500, Cost: 0.011688042363209226\n",
      "Epoch 600, Cost: 0.003621732270837689\n",
      "Epoch 700, Cost: 0.0011232045336648836\n",
      "Epoch 800, Cost: 0.0003492892264260033\n",
      "Epoch 900, Cost: 0.00010957009348718282\n"
     ]
    }
   ],
   "source": [
    "import numpy as np\n",
    "\n",
    "# Verileri al\n",
    "X = data_cleaned['TP DK USD S YTL'].values\n",
    "y = data_cleaned['TP DK SAR S YTL'].values\n",
    "\n",
    "# Hiperparametreler\n",
    "learning_rate = 0.01\n",
    "epochs = 1000\n",
    "alpha = 0.1  # Regularization parameter\n",
    "\n",
    "# Cost/Loss fonksiyonu with L2 regularization\n",
    "def compute_cost(X, y, theta0, theta1, alpha):\n",
    "    m = len(y)\n",
    "    predictions = theta0 + theta1 * X\n",
    "    cost = (1/(2*m)) * np.sum(np.square(predictions - y)) + (alpha/(2*m)) * (theta0**2 + theta1**2)\n",
    "    return cost\n",
    "\n",
    "# Cost/Loss fonksiyonunun türetilmesi with L2 regularization\n",
    "def compute_cost_derivative(X, y, theta0, theta1, alpha):\n",
    "    m = len(y)\n",
    "    predictions = theta0 + theta1 * X\n",
    "    dtheta0 = (1/m) * np.sum(predictions - y) + (alpha/m) * theta0\n",
    "    dtheta1 = (1/m) * np.sum((predictions - y) * X) + (alpha/m) * theta1\n",
    "    return dtheta0, dtheta1\n",
    "\n",
    "# ... (previous code)\n",
    "\n",
    "# Optimizasyon fonksiyonu with L2 regularization\n",
    "def gradient_descent(X, y, theta0, theta1, learning_rate, epochs, alpha):\n",
    "    m = len(y)\n",
    "    for epoch in range(epochs):\n",
    "        cost = compute_cost(X, y, theta0, theta1, alpha)\n",
    "        dtheta0, dtheta1 = compute_cost_derivative(X, y, theta0, theta1, alpha)\n",
    "        theta0 = theta0 - learning_rate * dtheta0\n",
    "        theta1 = theta1 - learning_rate * dtheta1\n",
    "\n",
    "        if epoch % 100 == 0:\n",
    "            print(f'Epoch {epoch}, Cost: {cost}')\n",
    "\n",
    "    return theta0, theta1\n",
    "\n",
    "# ... (previous code)\n",
    "\n",
    "# Modeli eğit\n",
    "theta0, theta1 = gradient_descent(X, y, theta0, theta1, learning_rate, epochs, alpha)\n",
    "\n",
    "# ... (remaining code)\n"
   ],
   "metadata": {
    "collapsed": false,
    "ExecuteTime": {
     "end_time": "2023-12-05T08:20:17.195356400Z",
     "start_time": "2023-12-05T08:20:17.133522200Z"
    }
   },
   "id": "b6b053137a2c466f"
  },
  {
   "cell_type": "code",
   "execution_count": 279,
   "outputs": [
    {
     "name": "stdout",
     "output_type": "stream",
     "text": [
      "Mean Squared Error (MSE): 6.914280066379999e-05\n",
      "Tahmin edilen çıktı: 0.80759122064311\n"
     ]
    }
   ],
   "source": [
    "# Mean Squared Error (MSE) hesaplama fonksiyonu\n",
    "def compute_mse(X, y, theta0, theta1):\n",
    "    m = len(y)\n",
    "    predictions = theta0 + theta1 * X\n",
    "    mse = np.mean(np.square(predictions - y))\n",
    "    return mse\n",
    "\n",
    "# Eğitilmiş modeli kullanarak MSE hesapla\n",
    "mse = compute_mse(X, y, theta0, theta1)\n",
    "print(f'Mean Squared Error (MSE): {mse}')\n",
    "\n",
    "# Eğitilmiş modeli kullanarak tahmin yap\n",
    "def predict(x):\n",
    "    return theta0 + theta1 * x\n",
    "\n",
    "# Örnek kullanım\n",
    "sample_input = 3.0  # Örneğin, 'TP DK USD S YTL' sütunundan bir değer\n",
    "predicted_output = predict(sample_input)\n",
    "print(f'Tahmin edilen çıktı: {predicted_output}')"
   ],
   "metadata": {
    "collapsed": false,
    "ExecuteTime": {
     "end_time": "2023-12-05T08:20:18.760140Z",
     "start_time": "2023-12-05T08:20:18.744503400Z"
    }
   },
   "id": "d0a69875a2d95e63"
  },
  {
   "cell_type": "code",
   "execution_count": 280,
   "outputs": [
    {
     "data": {
      "text/plain": "<Figure size 640x480 with 1 Axes>",
      "image/png": "[encoded data removed]"
     },
     "metadata": {},
     "output_type": "display_data"
    }
   ],
   "source": [
    "import matplotlib.pyplot as plt\n",
    "\n",
    "# Gerçek ve tahmin edilen değerlerin grafiğini çiz\n",
    "plt.scatter(X, y, color='blue', label='Gerçek Değerler')\n",
    "plt.plot(X, theta0 + theta1 * X, color='red', label='Tahmin Edilen Değerler')\n",
    "plt.xlabel('TP DK USD S YTL')\n",
    "plt.ylabel('TP DK SAR S YTL')\n",
    "plt.title('Gerçek vs. Tahmin Edilen Değerler')\n",
    "plt.legend()\n",
    "plt.show()\n",
    "    "
   ],
   "metadata": {
    "collapsed": false,
    "ExecuteTime": {
     "end_time": "2023-12-05T08:20:19.568917400Z",
     "start_time": "2023-12-05T08:20:19.387046100Z"
    }
   },
   "id": "9f8650be36d10aa4"
  },
  {
   "cell_type": "code",
   "execution_count": 289,
   "outputs": [],
   "source": [
    "import numpy as np\n",
    "\n",
    "class RegularizedLinearRegression:\n",
    "    def __init__(self, learning_rate=0.01, epochs=1000, alpha=0.1):\n",
    "        self.learning_rate = learning_rate\n",
    "        self.epochs = epochs\n",
    "        self.alpha = alpha\n",
    "        self.theta = None\n",
    "\n",
    "    def fit(self, X, y):\n",
    "        X = np.atleast_2d(X)\n",
    "        m, n = X.shape\n",
    "        self.theta = np.zeros(n + 1)\n",
    "        X_with_bias = np.c_[np.ones(m), X]\n",
    "\n",
    "        for epoch in range(self.epochs):\n",
    "            cost = self._compute_cost(X_with_bias, y)\n",
    "            gradients = self._compute_gradients(X_with_bias, y)\n",
    "            self.theta = self._update_parameters(gradients)\n",
    "\n",
    "            if epoch % 100 == 0:\n",
    "                print(f'Epoch {epoch}, Cost: {cost}')\n",
    "\n",
    "    def _compute_cost(self, X, y):\n",
    "        m = len(y)\n",
    "        predictions = X.dot(self.theta)\n",
    "        regularization_term = (self.alpha / (2 * m)) * np.sum(self.theta[1:]**2)\n",
    "        cost = (1 / (2 * m)) * np.sum(np.square(predictions - y)) + regularization_term\n",
    "        return cost\n",
    "\n",
    "    def _compute_gradients(self, X, y):\n",
    "        m = len(y)\n",
    "        predictions = X.dot(self.theta)\n",
    "        regularization_term = (self.alpha / m) * np.insert(self.theta[1:], 0, 0)\n",
    "        gradients = (1 / m) * X.T.dot(predictions - y) + regularization_term\n",
    "        return gradients\n",
    "\n",
    "    def _update_parameters(self, gradients):\n",
    "        self.theta = self.theta - self.learning_rate * gradients\n",
    "        return self.theta\n",
    "\n",
    "    def predict(self, X):\n",
    "        m = X.shape[0]\n",
    "        X_with_bias = np.c_[np.ones(m), X]\n",
    "        return X_with_bias.dot(self.theta)\n",
    "\n",
    "    def derivative_mse(self, X, y):\n",
    "        m = len(y)\n",
    "        predictions = X.dot(self.theta)\n",
    "        regularization_term_derivative = (self.alpha / m) * np.insert(np.sign(self.theta[1:]), 0, 0)\n",
    "        d_mse = (1 / m) * X.T.dot(predictions - y) + regularization_term_derivative\n",
    "        return d_mse\n",
    "\n",
    "    def mse(self, X, y):\n",
    "        m = len(y)\n",
    "        predictions = X.dot(self.theta)\n",
    "        regularization_term = (self.alpha / (2 * m)) * np.sum(self.theta[1:]**2)\n",
    "        mse_value = (1 / m) * np.sum(np.square(predictions - y)) + regularization_term\n",
    "        return mse_value\n",
    "\n",
    "    def rss(self, X, y):\n",
    "        predictions = self.predict(X)\n",
    "        rss_value = np.sum(np.square(predictions - y))\n",
    "        return rss_value\n"
   ],
   "metadata": {
    "collapsed": false,
    "ExecuteTime": {
     "end_time": "2023-12-05T08:22:48.164075700Z",
     "start_time": "2023-12-05T08:22:48.148321200Z"
    }
   },
   "id": "5edd3c8f44297d6b"
  },
  {
   "cell_type": "code",
   "execution_count": 290,
   "outputs": [
    {
     "name": "stdout",
     "output_type": "stream",
     "text": [
      "Mean Squared Error (MSE): 1.09305622831706\n",
      "Derivative Mean Squared Error (Derivative MSE) - Theta0: -0.037506774071469066, Theta1: 0.010107651094155576\n",
      "Residual Sum of Squares (RSS): 109.30562283170599\n",
      "Tahmin edilen çıktı: 289.0\n"
     ]
    }
   ],
   "source": [
    " import numpy as np\n",
    "\n",
    "# Mean Squared Error (MSE) hesaplama fonksiyonu\n",
    "def compute_mse(X, y, theta0, theta1):\n",
    "    m = len(y)\n",
    "    predictions = theta0 + theta1 * X\n",
    "    mse = np.mean(np.square(predictions - y))\n",
    "    return mse\n",
    "\n",
    "# Türevli Mean Squared Error (derivative MSE) hesaplama fonksiyonu\n",
    "def compute_derivative_mse(X, y, theta0, theta1):\n",
    "    m = len(y)\n",
    "    predictions = theta0 + theta1 * X\n",
    "    d_mse_theta0 = np.mean(predictions - y)\n",
    "    d_mse_theta1 = np.mean((predictions - y) * X)\n",
    "    return d_mse_theta0, d_mse_theta1\n",
    "\n",
    "# Residual Sum of Squares (RSS) hesaplama fonksiyonu\n",
    "def compute_rss(X, y, theta0, theta1):\n",
    "    predictions = theta0 + theta1 * X\n",
    "    rss = np.sum(np.square(predictions - y))\n",
    "    return rss\n",
    "\n",
    "# Eğitilmiş modeli kullanarak MSE hesapla\n",
    "theta0 = 4.0\n",
    "theta1 = 3.0\n",
    "X = np.random.rand(100, 1)\n",
    "y = 4 + 3 * X + np.random.randn(100, 1)  # Örnek veri oluşturun\n",
    "\n",
    "mse = compute_mse(X, y, theta0, theta1)\n",
    "print(f'Mean Squared Error (MSE): {mse}')\n",
    "\n",
    "# Eğitilmiş modeli kullanarak türevli MSE hesapla\n",
    "d_mse_theta0, d_mse_theta1 = compute_derivative_mse(X, y, theta0, theta1)\n",
    "print(f'Derivative Mean Squared Error (Derivative MSE) - Theta0: {d_mse_theta0}, Theta1: {d_mse_theta1}')\n",
    "\n",
    "# Eğitilmiş modeli kullanarak RSS hesapla\n",
    "rss = compute_rss(X, y, theta0, theta1)\n",
    "print(f'Residual Sum of Squares (RSS): {rss}')\n",
    "\n",
    "# Eğitilmiş modeli kullanarak tahmin yap\n",
    "def predict(x, theta0, theta1):\n",
    "    return theta0 + theta1 * x\n",
    "\n",
    "# Örnek kullanım\n",
    "sample_input = 95  # Örneğin, 'TP DK USD S YTL' sütunundan bir değer\n",
    "predicted_output = predict(sample_input, theta0, theta1)\n",
    "print(f'Tahmin edilen çıktı: {predicted_output}')\n"
   ],
   "metadata": {
    "collapsed": false,
    "ExecuteTime": {
     "end_time": "2023-12-05T08:22:48.727108100Z",
     "start_time": "2023-12-05T08:22:48.711509200Z"
    }
   },
   "id": "b5888e450911939c"
  },
  {
   "cell_type": "code",
   "execution_count": 291,
   "outputs": [
    {
     "data": {
      "text/plain": "289.0"
     },
     "execution_count": 291,
     "metadata": {},
     "output_type": "execute_result"
    }
   ],
   "source": [
    "predict(95, 4.0, 3.0)"
   ],
   "metadata": {
    "collapsed": false,
    "ExecuteTime": {
     "end_time": "2023-12-05T08:22:49.765716700Z",
     "start_time": "2023-12-05T08:22:49.734376600Z"
    }
   },
   "id": "6cd95f7b7766d840"
  },
  {
   "cell_type": "code",
   "execution_count": 292,
   "outputs": [
    {
     "data": {
      "text/plain": "<Figure size 640x480 with 1 Axes>",
      "image/png": "[encoded data removed]"
     },
     "metadata": {},
     "output_type": "display_data"
    }
   ],
   "source": [
    "import matplotlib.pyplot as plt\n",
    "\n",
    "# Gerçek ve tahmin edilen değerlerin grafiğini çiz\n",
    "plt.scatter(X, y, color='blue', label='Gerçek Değerler')\n",
    "plt.plot(X, theta0 + theta1 * X, color='red', label='Tahmin Edilen Değerler')\n",
    "plt.xlabel('TP DK USD S YTL')\n",
    "plt.ylabel('TP DK SAR S YTL')\n",
    "plt.title('Gerçek vs. Tahmin Edilen Değerler')\n",
    "plt.legend()\n",
    "plt.show()\n",
    "    "
   ],
   "metadata": {
    "collapsed": false,
    "ExecuteTime": {
     "end_time": "2023-12-05T08:23:03.620306300Z",
     "start_time": "2023-12-05T08:23:03.474726400Z"
    }
   },
   "id": "26c0eef49b3cf2de"
  },
  {
   "cell_type": "code",
   "execution_count": 300,
   "outputs": [
    {
     "name": "stdout",
     "output_type": "stream",
     "text": [
      "Epoch 0, Cost: 9.951173518518518\n",
      "Epoch 100, Cost: 0.03833462762840986\n",
      "Epoch 200, Cost: 0.0368591645444209\n",
      "Epoch 300, Cost: 0.03575857998058888\n",
      "Epoch 400, Cost: 0.03493760824617378\n",
      "Epoch 500, Cost: 0.034325193699690504\n",
      "Epoch 600, Cost: 0.0338683381740954\n",
      "Epoch 700, Cost: 0.033527511976070165\n",
      "Epoch 800, Cost: 0.0332732311030981\n",
      "Epoch 900, Cost: 0.033083504303537375\n"
     ]
    },
    {
     "data": {
      "text/plain": "<Figure size 640x480 with 1 Axes>",
      "image/png": "[encoded data removed]"
     },
     "metadata": {},
     "output_type": "display_data"
    },
    {
     "ename": "ValueError",
     "evalue": "shapes (1,4) and (3,) not aligned: 4 (dim 1) != 3 (dim 0)",
     "output_type": "error",
     "traceback": [
      "\u001B[1;31m---------------------------------------------------------------------------\u001B[0m",
      "\u001B[1;31mValueError\u001B[0m                                Traceback (most recent call last)",
      "Cell \u001B[1;32mIn[300], line 73\u001B[0m\n\u001B[0;32m     71\u001B[0m X_test_single \u001B[38;5;241m=\u001B[39m np\u001B[38;5;241m.\u001B[39marray([[\u001B[38;5;241m5\u001B[39m, \u001B[38;5;241m6\u001B[39m]])  \u001B[38;5;66;03m# Single data point\u001B[39;00m\n\u001B[0;32m     72\u001B[0m X_test_single_with_intercept \u001B[38;5;241m=\u001B[39m regression_model\u001B[38;5;241m.\u001B[39m_add_intercept(X_test_single)\n\u001B[1;32m---> 73\u001B[0m prediction_single \u001B[38;5;241m=\u001B[39m \u001B[43mregression_model\u001B[49m\u001B[38;5;241;43m.\u001B[39;49m\u001B[43mpredict\u001B[49m\u001B[43m(\u001B[49m\u001B[43mX_test_single_with_intercept\u001B[49m\u001B[43m)\u001B[49m\n\u001B[0;32m     75\u001B[0m \u001B[38;5;28mprint\u001B[39m(\u001B[38;5;124m\"\u001B[39m\u001B[38;5;124mPrediction for a single input:\u001B[39m\u001B[38;5;124m\"\u001B[39m, prediction_single)\n\u001B[0;32m     77\u001B[0m \u001B[38;5;66;03m# Calculate MSE and RSS on the training data\u001B[39;00m\n",
      "Cell \u001B[1;32mIn[300], line 36\u001B[0m, in \u001B[0;36mMultipleLinearRegression.predict\u001B[1;34m(self, X)\u001B[0m\n\u001B[0;32m     34\u001B[0m \u001B[38;5;28;01mdef\u001B[39;00m \u001B[38;5;21mpredict\u001B[39m(\u001B[38;5;28mself\u001B[39m, X):\n\u001B[0;32m     35\u001B[0m     X \u001B[38;5;241m=\u001B[39m \u001B[38;5;28mself\u001B[39m\u001B[38;5;241m.\u001B[39m_add_intercept(X)\n\u001B[1;32m---> 36\u001B[0m     \u001B[38;5;28;01mreturn\u001B[39;00m \u001B[43mnp\u001B[49m\u001B[38;5;241;43m.\u001B[39;49m\u001B[43mdot\u001B[49m\u001B[43m(\u001B[49m\u001B[43mX\u001B[49m\u001B[43m,\u001B[49m\u001B[43m \u001B[49m\u001B[38;5;28;43mself\u001B[39;49m\u001B[38;5;241;43m.\u001B[39;49m\u001B[43mweights\u001B[49m\u001B[43m)\u001B[49m\n",
      "\u001B[1;31mValueError\u001B[0m: shapes (1,4) and (3,) not aligned: 4 (dim 1) != 3 (dim 0)"
     ]
    }
   ],
   "source": [
    "import numpy as np\n",
    "import matplotlib.pyplot as plt\n",
    "\n",
    "class MultipleLinearRegression:\n",
    "    def __init__(self, learning_rate=0.01, epochs=1000, regularization_param=0.1):\n",
    "        self.learning_rate = learning_rate\n",
    "        self.epochs = epochs\n",
    "        self.regularization_param = regularization_param\n",
    "        self.weights = None\n",
    "\n",
    "    def fit(self, X, y):\n",
    "        X = self._add_intercept(X)\n",
    "        m, n = X.shape\n",
    "        self.weights = np.zeros(n)\n",
    "        costs = []\n",
    "\n",
    "        for epoch in range(self.epochs):\n",
    "            predictions = np.dot(X, self.weights)\n",
    "            errors = predictions - y\n",
    "\n",
    "            gradient = (1 / m) * np.dot(X.T, errors)\n",
    "            regularization_term = (self.regularization_param / m) * self.weights\n",
    "            regularization_term[0] = 0\n",
    "\n",
    "            self.weights -= self.learning_rate * (gradient + regularization_term)\n",
    "\n",
    "            if epoch % 100 == 0:\n",
    "                cost = self._compute_cost(X, y)\n",
    "                costs.append(cost)\n",
    "                print(f'Epoch {epoch}, Cost: {cost}')\n",
    "\n",
    "        self._plot_cost(costs)\n",
    "\n",
    "    def predict(self, X):\n",
    "        X = self._add_intercept(X)\n",
    "        return np.dot(X, self.weights)\n",
    "\n",
    "    def _add_intercept(self, X):\n",
    "        return np.c_[np.ones(X.shape[0]), X]\n",
    "\n",
    "    def _compute_cost(self, X, y):\n",
    "        m = len(y)\n",
    "        predictions = np.dot(X, self.weights)\n",
    "        errors = predictions - y\n",
    "        squared_errors = np.square(errors)\n",
    "\n",
    "        regularization_term = (self.regularization_param / (2 * m)) * np.sum(self.weights[1:]**2)\n",
    "\n",
    "        cost = (1 / (2 * m)) * np.sum(squared_errors) + regularization_term\n",
    "        return cost\n",
    "\n",
    "    def _plot_cost(self, costs):\n",
    "        plt.plot(range(0, len(costs) * 100, 100), costs, marker='o')\n",
    "        plt.title('Cost over epochs')\n",
    "        plt.xlabel('Epochs')\n",
    "        plt.ylabel('Cost')\n",
    "        plt.show()\n",
    "\n",
    "# Example usage:\n",
    "if __name__ == \"__main__\":\n",
    "    X_train = np.array([[1, 2], [2, 3], [3, 4]])\n",
    "    y_train = np.array([3, 5, 7])\n",
    "\n",
    "    # Create an instance of MultipleLinearRegression\n",
    "    regression_model = MultipleLinearRegression(learning_rate=0.01, epochs=1000, regularization_param=0.1)\n",
    "\n",
    "    # Fit the model to the training data\n",
    "    regression_model.fit(X_train, y_train)\n",
    "\n",
    "    # Make predictions for a single input\n",
    "    X_test_single = np.array([[5, 6]])  # Single data point\n",
    "    X_test_single_with_intercept = regression_model._add_intercept(X_test_single)\n",
    "    prediction_single = regression_model.predict(X_test_single_with_intercept)\n",
    "\n",
    "    print(\"Prediction for a single input:\", prediction_single)\n",
    "\n",
    "    # Calculate MSE and RSS on the training data\n",
    "    mse_value = regression_model.calculate_mse(X_train, y_train)\n",
    "    rss_value = regression_model.calculate_rss(X_train, y_train)\n",
    "\n",
    "    print(\"Mean Squared Error (MSE) on training data:\", mse_value)\n",
    "    print(\"Residual Sum of Squares (RSS) on training data:\", rss_value)\n"
   ],
   "metadata": {
    "collapsed": false,
    "ExecuteTime": {
     "end_time": "2023-12-05T08:29:11.912260900Z",
     "start_time": "2023-12-05T08:29:11.708419500Z"
    }
   },
   "id": "b4cfeb5a94edd713"
  }
 ],
 "metadata": {
  "kernelspec": {
   "display_name": "Python 3",
   "language": "python",
   "name": "python3"
  },
  "language_info": {
   "codemirror_mode": {
    "name": "ipython",
    "version": 2
   },
   "file_extension": ".py",
   "mimetype": "text/x-python",
   "name": "python",
   "nbconvert_exporter": "python",
   "pygments_lexer": "ipython2",
   "version": "2.7.6"
  }
 },
 "nbformat": 4,
 "nbformat_minor": 5
}
