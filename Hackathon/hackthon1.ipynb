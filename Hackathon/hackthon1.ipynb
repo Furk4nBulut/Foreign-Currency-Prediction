{
 "cells": [
  {
   "cell_type": "code",
   "execution_count": 37,
   "id": "initial_id",
   "metadata": {
    "collapsed": true,
    "ExecuteTime": {
     "end_time": "2023-12-05T06:58:05.123169600Z",
     "start_time": "2023-12-05T06:58:04.502464300Z"
    }
   },
   "outputs": [
    {
     "data": {
      "text/plain": "                No  TP DK USD S YTL  TP DK EUR S YTL  TP DK GBP S YTL  \\\ncount  4757.000000      4733.000000      4733.000000      4733.000000   \nmean   2379.000000         4.741321         5.435227         6.440073   \nstd    1373.371945         5.673079         5.987151         6.860333   \nmin       1.000000         1.150400         1.557000         2.121500   \n25%    1190.000000         1.519300         2.073700         2.559800   \n50%    2379.000000         2.179600         2.838500         3.597300   \n75%    3568.000000         5.667800         6.309300         7.123900   \nmax    4757.000000        28.910400        31.656400        36.541100   \n\n       TP DK SEK S YTL  TP DK CHF S YTL  TP DK CAD S YTL  TP DK KWD S YTL  \\\ncount      4733.000000      4733.000000      4733.000000      4733.000000   \nmean          0.530649         4.985549         3.757192        15.821462   \nstd           0.526817         6.269771         4.182878        18.454100   \nmin           0.164560         0.994890         1.022500         4.213400   \n25%           0.208670         1.423200         1.396200         5.300100   \n50%           0.312010         2.383200         1.978200         7.695500   \n75%           0.598560         5.715700         4.289400        18.742400   \nmax           2.783000        32.902000        21.223600        94.281700   \n\n       TP DK SAR S YTL  \ncount      4733.000000  \nmean          1.263723  \nstd           1.511584  \nmin           0.306780  \n25%           0.405110  \n50%           0.581150  \n75%           1.511300  \nmax           7.708300  ",
      "text/html": "<div>\n<style scoped>\n    .dataframe tbody tr th:only-of-type {\n        vertical-align: middle;\n    }\n\n    .dataframe tbody tr th {\n        vertical-align: top;\n    }\n\n    .dataframe thead th {\n        text-align: right;\n    }\n</style>\n<table border=\"1\" class=\"dataframe\">\n  <thead>\n    <tr style=\"text-align: right;\">\n      <th></th>\n      <th>No</th>\n      <th>TP DK USD S YTL</th>\n      <th>TP DK EUR S YTL</th>\n      <th>TP DK GBP S YTL</th>\n      <th>TP DK SEK S YTL</th>\n      <th>TP DK CHF S YTL</th>\n      <th>TP DK CAD S YTL</th>\n      <th>TP DK KWD S YTL</th>\n      <th>TP DK SAR S YTL</th>\n    </tr>\n  </thead>\n  <tbody>\n    <tr>\n      <th>count</th>\n      <td>4757.000000</td>\n      <td>4733.000000</td>\n      <td>4733.000000</td>\n      <td>4733.000000</td>\n      <td>4733.000000</td>\n      <td>4733.000000</td>\n      <td>4733.000000</td>\n      <td>4733.000000</td>\n      <td>4733.000000</td>\n    </tr>\n    <tr>\n      <th>mean</th>\n      <td>2379.000000</td>\n      <td>4.741321</td>\n      <td>5.435227</td>\n      <td>6.440073</td>\n      <td>0.530649</td>\n      <td>4.985549</td>\n      <td>3.757192</td>\n      <td>15.821462</td>\n      <td>1.263723</td>\n    </tr>\n    <tr>\n      <th>std</th>\n      <td>1373.371945</td>\n      <td>5.673079</td>\n      <td>5.987151</td>\n      <td>6.860333</td>\n      <td>0.526817</td>\n      <td>6.269771</td>\n      <td>4.182878</td>\n      <td>18.454100</td>\n      <td>1.511584</td>\n    </tr>\n    <tr>\n      <th>min</th>\n      <td>1.000000</td>\n      <td>1.150400</td>\n      <td>1.557000</td>\n      <td>2.121500</td>\n      <td>0.164560</td>\n      <td>0.994890</td>\n      <td>1.022500</td>\n      <td>4.213400</td>\n      <td>0.306780</td>\n    </tr>\n    <tr>\n      <th>25%</th>\n      <td>1190.000000</td>\n      <td>1.519300</td>\n      <td>2.073700</td>\n      <td>2.559800</td>\n      <td>0.208670</td>\n      <td>1.423200</td>\n      <td>1.396200</td>\n      <td>5.300100</td>\n      <td>0.405110</td>\n    </tr>\n    <tr>\n      <th>50%</th>\n      <td>2379.000000</td>\n      <td>2.179600</td>\n      <td>2.838500</td>\n      <td>3.597300</td>\n      <td>0.312010</td>\n      <td>2.383200</td>\n      <td>1.978200</td>\n      <td>7.695500</td>\n      <td>0.581150</td>\n    </tr>\n    <tr>\n      <th>75%</th>\n      <td>3568.000000</td>\n      <td>5.667800</td>\n      <td>6.309300</td>\n      <td>7.123900</td>\n      <td>0.598560</td>\n      <td>5.715700</td>\n      <td>4.289400</td>\n      <td>18.742400</td>\n      <td>1.511300</td>\n    </tr>\n    <tr>\n      <th>max</th>\n      <td>4757.000000</td>\n      <td>28.910400</td>\n      <td>31.656400</td>\n      <td>36.541100</td>\n      <td>2.783000</td>\n      <td>32.902000</td>\n      <td>21.223600</td>\n      <td>94.281700</td>\n      <td>7.708300</td>\n    </tr>\n  </tbody>\n</table>\n</div>"
     },
     "execution_count": 37,
     "metadata": {},
     "output_type": "execute_result"
    }
   ],
   "source": [
    "import pandas as pd\n",
    "\n",
    "# Dosyayı yükleme\n",
    "file_path = 'C:/Users/FurkanBulut/Desktop/dataa.xlsx'\n",
    "data = pd.read_excel(file_path) \n",
    "\n",
    "# İlk beş satırı göster\n",
    "data.head()\n",
    "data.describe()"
   ]
  },
  {
   "cell_type": "code",
   "execution_count": 38,
   "outputs": [
    {
     "data": {
      "text/plain": "No                  0\nTarih              24\nTP DK USD S YTL    24\nTP DK EUR S YTL    24\nTP DK GBP S YTL    24\nTP DK SEK S YTL    24\nTP DK CHF S YTL    24\nTP DK CAD S YTL    24\nTP DK KWD S YTL    24\nTP DK SAR S YTL    24\ndtype: int64"
     },
     "execution_count": 38,
     "metadata": {},
     "output_type": "execute_result"
    }
   ],
   "source": [
    "data.isnull().sum() #eksik veri kontrolü yaptık"
   ],
   "metadata": {
    "collapsed": false,
    "ExecuteTime": {
     "end_time": "2023-12-05T06:58:05.849777200Z",
     "start_time": "2023-12-05T06:58:05.834152800Z"
    }
   },
   "id": "4fcd5e6c9f0058c7"
  },
  {
   "cell_type": "code",
   "execution_count": 39,
   "outputs": [
    {
     "name": "stdout",
     "output_type": "stream",
     "text": [
      "Number of rows before removing missing values: 4757\n",
      "Number of rows after removing missing values: 4733\n"
     ]
    },
    {
     "data": {
      "text/plain": "                No  TP DK USD S YTL  TP DK EUR S YTL  TP DK GBP S YTL  \\\ncount  4733.000000      4733.000000      4733.000000      4733.000000   \nmean   2379.241918         4.741321         5.435227         6.440073   \nstd    1373.114025         5.673079         5.987151         6.860333   \nmin       1.000000         1.150400         1.557000         2.121500   \n25%    1191.000000         1.519300         2.073700         2.559800   \n50%    2379.000000         2.179600         2.838500         3.597300   \n75%    3568.000000         5.667800         6.309300         7.123900   \nmax    4757.000000        28.910400        31.656400        36.541100   \n\n       TP DK SEK S YTL  TP DK CHF S YTL  TP DK CAD S YTL  TP DK KWD S YTL  \\\ncount      4733.000000      4733.000000      4733.000000      4733.000000   \nmean          0.530649         4.985549         3.757192        15.821462   \nstd           0.526817         6.269771         4.182878        18.454100   \nmin           0.164560         0.994890         1.022500         4.213400   \n25%           0.208670         1.423200         1.396200         5.300100   \n50%           0.312010         2.383200         1.978200         7.695500   \n75%           0.598560         5.715700         4.289400        18.742400   \nmax           2.783000        32.902000        21.223600        94.281700   \n\n       TP DK SAR S YTL  \ncount      4733.000000  \nmean          1.263723  \nstd           1.511584  \nmin           0.306780  \n25%           0.405110  \n50%           0.581150  \n75%           1.511300  \nmax           7.708300  ",
      "text/html": "<div>\n<style scoped>\n    .dataframe tbody tr th:only-of-type {\n        vertical-align: middle;\n    }\n\n    .dataframe tbody tr th {\n        vertical-align: top;\n    }\n\n    .dataframe thead th {\n        text-align: right;\n    }\n</style>\n<table border=\"1\" class=\"dataframe\">\n  <thead>\n    <tr style=\"text-align: right;\">\n      <th></th>\n      <th>No</th>\n      <th>TP DK USD S YTL</th>\n      <th>TP DK EUR S YTL</th>\n      <th>TP DK GBP S YTL</th>\n      <th>TP DK SEK S YTL</th>\n      <th>TP DK CHF S YTL</th>\n      <th>TP DK CAD S YTL</th>\n      <th>TP DK KWD S YTL</th>\n      <th>TP DK SAR S YTL</th>\n    </tr>\n  </thead>\n  <tbody>\n    <tr>\n      <th>count</th>\n      <td>4733.000000</td>\n      <td>4733.000000</td>\n      <td>4733.000000</td>\n      <td>4733.000000</td>\n      <td>4733.000000</td>\n      <td>4733.000000</td>\n      <td>4733.000000</td>\n      <td>4733.000000</td>\n      <td>4733.000000</td>\n    </tr>\n    <tr>\n      <th>mean</th>\n      <td>2379.241918</td>\n      <td>4.741321</td>\n      <td>5.435227</td>\n      <td>6.440073</td>\n      <td>0.530649</td>\n      <td>4.985549</td>\n      <td>3.757192</td>\n      <td>15.821462</td>\n      <td>1.263723</td>\n    </tr>\n    <tr>\n      <th>std</th>\n      <td>1373.114025</td>\n      <td>5.673079</td>\n      <td>5.987151</td>\n      <td>6.860333</td>\n      <td>0.526817</td>\n      <td>6.269771</td>\n      <td>4.182878</td>\n      <td>18.454100</td>\n      <td>1.511584</td>\n    </tr>\n    <tr>\n      <th>min</th>\n      <td>1.000000</td>\n      <td>1.150400</td>\n      <td>1.557000</td>\n      <td>2.121500</td>\n      <td>0.164560</td>\n      <td>0.994890</td>\n      <td>1.022500</td>\n      <td>4.213400</td>\n      <td>0.306780</td>\n    </tr>\n    <tr>\n      <th>25%</th>\n      <td>1191.000000</td>\n      <td>1.519300</td>\n      <td>2.073700</td>\n      <td>2.559800</td>\n      <td>0.208670</td>\n      <td>1.423200</td>\n      <td>1.396200</td>\n      <td>5.300100</td>\n      <td>0.405110</td>\n    </tr>\n    <tr>\n      <th>50%</th>\n      <td>2379.000000</td>\n      <td>2.179600</td>\n      <td>2.838500</td>\n      <td>3.597300</td>\n      <td>0.312010</td>\n      <td>2.383200</td>\n      <td>1.978200</td>\n      <td>7.695500</td>\n      <td>0.581150</td>\n    </tr>\n    <tr>\n      <th>75%</th>\n      <td>3568.000000</td>\n      <td>5.667800</td>\n      <td>6.309300</td>\n      <td>7.123900</td>\n      <td>0.598560</td>\n      <td>5.715700</td>\n      <td>4.289400</td>\n      <td>18.742400</td>\n      <td>1.511300</td>\n    </tr>\n    <tr>\n      <th>max</th>\n      <td>4757.000000</td>\n      <td>28.910400</td>\n      <td>31.656400</td>\n      <td>36.541100</td>\n      <td>2.783000</td>\n      <td>32.902000</td>\n      <td>21.223600</td>\n      <td>94.281700</td>\n      <td>7.708300</td>\n    </tr>\n  </tbody>\n</table>\n</div>"
     },
     "execution_count": 39,
     "metadata": {},
     "output_type": "execute_result"
    }
   ],
   "source": [
    "# Check for missing values\n",
    "missing_values = data.isnull().sum()\n",
    "\n",
    "# Remove rows with missing values\n",
    "data_cleaned = data.dropna()\n",
    "\n",
    "# Display the number of rows before and after removing missing values\n",
    "print(\"Number of rows before removing missing values:\", len(data))\n",
    "print(\"Number of rows after removing missing values:\", len(data_cleaned))\n",
    "data_cleaned.describe()\n"
   ],
   "metadata": {
    "collapsed": false,
    "ExecuteTime": {
     "end_time": "2023-12-05T06:58:06.598588900Z",
     "start_time": "2023-12-05T06:58:06.558891200Z"
    }
   },
   "id": "cec29cbf781e6ff4"
  },
  {
   "cell_type": "code",
   "execution_count": 40,
   "outputs": [
    {
     "name": "stdout",
     "output_type": "stream",
     "text": [
      "['No', 'Tarih', 'TP DK USD S YTL', 'TP DK EUR S YTL', 'TP DK GBP S YTL', 'TP DK SEK S YTL', 'TP DK CHF S YTL', 'TP DK CAD S YTL', 'TP DK KWD S YTL', 'TP DK SAR S YTL']\n"
     ]
    }
   ],
   "source": [
    "print(data_cleaned.columns.tolist())"
   ],
   "metadata": {
    "collapsed": false,
    "ExecuteTime": {
     "end_time": "2023-12-05T06:58:07.942009900Z",
     "start_time": "2023-12-05T06:58:07.910734Z"
    }
   },
   "id": "862c53d0bbc67d0"
  },
  {
   "cell_type": "code",
   "execution_count": 41,
   "outputs": [],
   "source": [
    "features  = ['No', 'Tarih', 'TP DK USD S YTL', 'TP DK EUR S YTL', 'TP DK GBP S YTL', 'TP DK SEK S YTL', 'TP DK CHF S YTL', 'TP DK CAD S YTL', 'TP DK KWD S YTL']\n",
    "target  = ['TP DK SAR S YTL']\n",
    "\n",
    "X = data_cleaned[features]\n",
    "y = data_cleaned[target]\n"
   ],
   "metadata": {
    "collapsed": false,
    "ExecuteTime": {
     "end_time": "2023-12-05T06:58:09.269899200Z",
     "start_time": "2023-12-05T06:58:09.238641600Z"
    }
   },
   "id": "623ce55f5b1a878c"
  },
  {
   "cell_type": "code",
   "execution_count": 42,
   "outputs": [
    {
     "data": {
      "text/plain": "   No       Tarih  TP DK USD S YTL  TP DK EUR S YTL  TP DK GBP S YTL  \\\n0   1  03-01-2005           1.3427           1.8321           2.5928   \n1   2  04-01-2005           1.3448           1.8192           2.5695   \n2   3  05-01-2005           1.3492           1.8063           2.5586   \n3   4  06-01-2005           1.3841           1.8337           2.5985   \n4   5  07-01-2005           1.4068           1.8549           2.6347   \n\n   TP DK SEK S YTL  TP DK CHF S YTL  TP DK CAD S YTL  TP DK KWD S YTL  \n0          0.20307           1.1872           1.1152           4.5548  \n1          0.20226           1.1785           1.1147           4.6052  \n2          0.19989           1.1677           1.1120           4.6202  \n3          0.20251           1.1807           1.1277           4.7401  \n4          0.20532           1.1961           1.1433           4.8175  ",
      "text/html": "<div>\n<style scoped>\n    .dataframe tbody tr th:only-of-type {\n        vertical-align: middle;\n    }\n\n    .dataframe tbody tr th {\n        vertical-align: top;\n    }\n\n    .dataframe thead th {\n        text-align: right;\n    }\n</style>\n<table border=\"1\" class=\"dataframe\">\n  <thead>\n    <tr style=\"text-align: right;\">\n      <th></th>\n      <th>No</th>\n      <th>Tarih</th>\n      <th>TP DK USD S YTL</th>\n      <th>TP DK EUR S YTL</th>\n      <th>TP DK GBP S YTL</th>\n      <th>TP DK SEK S YTL</th>\n      <th>TP DK CHF S YTL</th>\n      <th>TP DK CAD S YTL</th>\n      <th>TP DK KWD S YTL</th>\n    </tr>\n  </thead>\n  <tbody>\n    <tr>\n      <th>0</th>\n      <td>1</td>\n      <td>03-01-2005</td>\n      <td>1.3427</td>\n      <td>1.8321</td>\n      <td>2.5928</td>\n      <td>0.20307</td>\n      <td>1.1872</td>\n      <td>1.1152</td>\n      <td>4.5548</td>\n    </tr>\n    <tr>\n      <th>1</th>\n      <td>2</td>\n      <td>04-01-2005</td>\n      <td>1.3448</td>\n      <td>1.8192</td>\n      <td>2.5695</td>\n      <td>0.20226</td>\n      <td>1.1785</td>\n      <td>1.1147</td>\n      <td>4.6052</td>\n    </tr>\n    <tr>\n      <th>2</th>\n      <td>3</td>\n      <td>05-01-2005</td>\n      <td>1.3492</td>\n      <td>1.8063</td>\n      <td>2.5586</td>\n      <td>0.19989</td>\n      <td>1.1677</td>\n      <td>1.1120</td>\n      <td>4.6202</td>\n    </tr>\n    <tr>\n      <th>3</th>\n      <td>4</td>\n      <td>06-01-2005</td>\n      <td>1.3841</td>\n      <td>1.8337</td>\n      <td>2.5985</td>\n      <td>0.20251</td>\n      <td>1.1807</td>\n      <td>1.1277</td>\n      <td>4.7401</td>\n    </tr>\n    <tr>\n      <th>4</th>\n      <td>5</td>\n      <td>07-01-2005</td>\n      <td>1.4068</td>\n      <td>1.8549</td>\n      <td>2.6347</td>\n      <td>0.20532</td>\n      <td>1.1961</td>\n      <td>1.1433</td>\n      <td>4.8175</td>\n    </tr>\n  </tbody>\n</table>\n</div>"
     },
     "execution_count": 42,
     "metadata": {},
     "output_type": "execute_result"
    }
   ],
   "source": [
    "X.head()"
   ],
   "metadata": {
    "collapsed": false,
    "ExecuteTime": {
     "end_time": "2023-12-05T06:58:10.154478400Z",
     "start_time": "2023-12-05T06:58:10.123209600Z"
    }
   },
   "id": "ae5f97d3eb81b486"
  },
  {
   "cell_type": "code",
   "execution_count": 43,
   "outputs": [
    {
     "data": {
      "text/plain": "   TP DK SAR S YTL\n0          0.35800\n1          0.35858\n2          0.35977\n3          0.36907\n4          0.37513",
      "text/html": "<div>\n<style scoped>\n    .dataframe tbody tr th:only-of-type {\n        vertical-align: middle;\n    }\n\n    .dataframe tbody tr th {\n        vertical-align: top;\n    }\n\n    .dataframe thead th {\n        text-align: right;\n    }\n</style>\n<table border=\"1\" class=\"dataframe\">\n  <thead>\n    <tr style=\"text-align: right;\">\n      <th></th>\n      <th>TP DK SAR S YTL</th>\n    </tr>\n  </thead>\n  <tbody>\n    <tr>\n      <th>0</th>\n      <td>0.35800</td>\n    </tr>\n    <tr>\n      <th>1</th>\n      <td>0.35858</td>\n    </tr>\n    <tr>\n      <th>2</th>\n      <td>0.35977</td>\n    </tr>\n    <tr>\n      <th>3</th>\n      <td>0.36907</td>\n    </tr>\n    <tr>\n      <th>4</th>\n      <td>0.37513</td>\n    </tr>\n  </tbody>\n</table>\n</div>"
     },
     "execution_count": 43,
     "metadata": {},
     "output_type": "execute_result"
    }
   ],
   "source": [
    "y.head()"
   ],
   "metadata": {
    "collapsed": false,
    "ExecuteTime": {
     "end_time": "2023-12-05T06:58:10.929823700Z",
     "start_time": "2023-12-05T06:58:10.914811Z"
    }
   },
   "id": "36399fe20b609529"
  },
  {
   "cell_type": "code",
   "execution_count": 44,
   "outputs": [
    {
     "name": "stdout",
     "output_type": "stream",
     "text": [
      "Input features for record 4512:\n",
      "TP DK USD S YTL    18.7919\n",
      "TP DK EUR S YTL    20.1891\n",
      "TP DK GBP S YTL    22.8546\n",
      "TP DK SEK S YTL     1.8062\n",
      "TP DK CHF S YTL    20.4071\n",
      "TP DK CAD S YTL    14.0163\n",
      "TP DK KWD S YTL    61.7725\n",
      "Name: 4535, dtype: object\n",
      "Output for record 4512:\n",
      "5.0035\n"
     ]
    }
   ],
   "source": [
    "# Accessing i-th record of inputs and related output\n",
    "i = 4512  # Replace this with the desired record index\n",
    "\n",
    "# Input features (columns 2 to 8)\n",
    "inputs = data_cleaned.iloc[i, 2:9]\n",
    "print(f\"Input features for record {i}:\\n{inputs}\")\n",
    "\n",
    "# Output (last column)\n",
    "output = data_cleaned.iloc[i, -1]\n",
    "print(f\"Output for record {i}:\\n{output}\")\n",
    "\n",
    "\n"
   ],
   "metadata": {
    "collapsed": false,
    "ExecuteTime": {
     "end_time": "2023-12-05T06:58:13.823360600Z",
     "start_time": "2023-12-05T06:58:13.807333300Z"
    }
   },
   "id": "e584bd15b8dcd35d"
  },
  {
   "cell_type": "code",
   "execution_count": 45,
   "outputs": [
    {
     "name": "stdout",
     "output_type": "stream",
     "text": [
      "Eğitim Verisi:\n",
      "        No       Tarih  TP DK USD S YTL  TP DK EUR S YTL  TP DK GBP S YTL  \\\n",
      "4667  4668  25-07-2023          26.9697          29.9184          34.6949   \n",
      "4624  4625  22-05-2023          19.7963          21.4159          24.6771   \n",
      "3502  3503  29-11-2018           5.2580           5.9340           6.7259   \n",
      "2165  2166  01-08-2013           1.9343           2.5654           2.9444   \n",
      "2982  2983  08-11-2016           3.1589           3.4941           3.9266   \n",
      "\n",
      "      TP DK SEK S YTL  TP DK CHF S YTL  TP DK CAD S YTL  TP DK KWD S YTL  \\\n",
      "4667          2.60200          31.2114          20.4610          88.3605   \n",
      "4624          1.89580          22.0446          14.7149          64.8093   \n",
      "3502          0.58033           5.2745           3.9535          17.3739   \n",
      "2165          0.29558           2.0876           1.8793           6.8343   \n",
      "2982          0.35228           3.2396           2.3614          10.4961   \n",
      "\n",
      "      TP DK SAR S YTL  \n",
      "4667          7.19040  \n",
      "4624          5.27860  \n",
      "3502          1.40140  \n",
      "2165          0.51578  \n",
      "2982          0.84226  \n",
      "\n",
      "Test Verisi:\n",
      "        No       Tarih  TP DK USD S YTL  TP DK EUR S YTL  TP DK GBP S YTL  \\\n",
      "1473  1474  05-11-2010           1.3951           1.9855           2.2603   \n",
      "3388  3389  13-06-2018           4.5573           5.3723           6.1107   \n",
      "29      30  15-02-2005           1.3152           1.7059           2.4789   \n",
      "3656  3657  11-07-2019           5.7485           6.4485           7.1806   \n",
      "2230  2231  12-11-2013           2.0395           2.7311           3.2682   \n",
      "\n",
      "      TP DK SEK S YTL  TP DK CHF S YTL  TP DK CAD S YTL  TP DK KWD S YTL  \\\n",
      "1473          0.21407           1.4418           1.3908           4.9861   \n",
      "3388          0.52959           4.6384           3.5107          15.1706   \n",
      "29            0.18735           1.0975           1.0683           4.5040   \n",
      "3656          0.60963           5.8088           4.3852          18.9853   \n",
      "2230          0.31121           2.2208           1.9503           7.2272   \n",
      "\n",
      "      TP DK SAR S YTL  \n",
      "1473          0.37202  \n",
      "3388          1.21520  \n",
      "29            0.35069  \n",
      "3656          1.53280  \n",
      "2230          0.54382  \n"
     ]
    }
   ],
   "source": [
    "import numpy as np \n",
    "import pandas as pd\n",
    "shuffled_indices = np.random.permutation(len(data_cleaned))\n",
    "df_shuffled = data_cleaned.iloc[shuffled_indices]\n",
    "\n",
    "# Eğitim ve test verisi oranı\n",
    "train_ratio = 0.8  # Eğitim verisinin oranı\n",
    "\n",
    "# Veriyi iki alt kümeye ayır\n",
    "train_size = int(len(df_shuffled) * train_ratio)\n",
    "train_data = df_shuffled.iloc[:train_size]\n",
    "test_data = df_shuffled.iloc[train_size:]\n",
    "\n",
    "# Eğitim verisi\n",
    "print(\"Eğitim Verisi:\")\n",
    "print(train_data.head())\n",
    "\n",
    "# Test verisi\n",
    "print(\"\\nTest Verisi:\")\n",
    "print(test_data.head())\n"
   ],
   "metadata": {
    "collapsed": false,
    "ExecuteTime": {
     "end_time": "2023-12-05T06:58:45.239592800Z",
     "start_time": "2023-12-05T06:58:45.176591900Z"
    }
   },
   "id": "9d918ff15f37787a"
  },
  {
   "cell_type": "markdown",
   "source": [
    "Phase 2"
   ],
   "metadata": {
    "collapsed": false
   },
   "id": "158f6e1c51235f69"
  },
  {
   "cell_type": "code",
   "execution_count": 31,
   "outputs": [
    {
     "name": "stdout",
     "output_type": "stream",
     "text": [
      "Eksik veri sayıları:\n",
      "No                  0\n",
      "Tarih              24\n",
      "TP DK USD S YTL    24\n",
      "TP DK EUR S YTL    24\n",
      "TP DK GBP S YTL    24\n",
      "TP DK SEK S YTL    24\n",
      "TP DK CHF S YTL    24\n",
      "TP DK CAD S YTL    24\n",
      "TP DK KWD S YTL    24\n",
      "TP DK SAR S YTL    24\n",
      "dtype: int64\n"
     ]
    }
   ],
   "source": [
    "\"\"\"import numpy as np\n",
    "import pandas as pd\n",
    "\n",
    "def load_data(file_path):\n",
    "    data = pd.read_excel(file_path)\n",
    "    return data\n",
    "\n",
    "def check_missing_values(data):\n",
    "    missing_values = data.isnull().sum()\n",
    "    print(\"Eksik veri sayıları:\")\n",
    "    print(missing_values)\n",
    "    return data.dropna()\n",
    "\n",
    "def shuffle_data(data):\n",
    "    shuffled_indices = np.random.permutation(len(data))\n",
    "    return data.iloc[shuffled_indices]\n",
    "\n",
    "file_path = 'C:/Users/FurkanBulut/Desktop/dataa.xlsx'\n",
    "data = load_data(file_path)\n",
    "data_cleaned = check_missing_values(data)\n",
    "df_shuffled = shuffle_data(data_cleaned)\n",
    "\n",
    "# Diğer işlemler...\"\"\"\n"
   ],
   "metadata": {
    "collapsed": false,
    "ExecuteTime": {
     "end_time": "2023-12-05T06:51:04.217999900Z",
     "start_time": "2023-12-05T06:51:03.589601600Z"
    }
   },
   "id": "7826844a981880db"
  },
  {
   "cell_type": "code",
   "execution_count": 32,
   "outputs": [
    {
     "name": "stdout",
     "output_type": "stream",
     "text": [
      "Epoch 0, Cost: 9185.329047320616\n",
      "Epoch 100, Cost: 5.241859352669095e+183\n"
     ]
    },
    {
     "name": "stderr",
     "output_type": "stream",
     "text": [
      "c:\\Users\\FurkanBulut\\anaconda3\\envs\\ML\\lib\\site-packages\\numpy\\core\\fromnumeric.py:88: RuntimeWarning: overflow encountered in reduce\n",
      "  return ufunc.reduce(obj, axis, dtype, out, **passkwargs)\n",
      "C:\\Users\\FurkanBulut\\AppData\\Local\\Temp\\ipykernel_15620\\1968922796.py:6: RuntimeWarning: overflow encountered in square\n",
      "  cost = (1/(2*m)) * np.sum((y_pred - y_true)**2)\n"
     ]
    },
    {
     "name": "stdout",
     "output_type": "stream",
     "text": [
      "Epoch 200, Cost: inf\n",
      "Epoch 300, Cost: inf\n"
     ]
    },
    {
     "name": "stderr",
     "output_type": "stream",
     "text": [
      "C:\\Users\\FurkanBulut\\AppData\\Local\\Temp\\ipykernel_15620\\1968922796.py:17: RuntimeWarning: invalid value encountered in subtract\n",
      "  updated_theta = theta - learning_rate * derivative\n"
     ]
    },
    {
     "name": "stdout",
     "output_type": "stream",
     "text": [
      "Epoch 400, Cost: nan\n",
      "Epoch 500, Cost: nan\n",
      "Epoch 600, Cost: nan\n",
      "Epoch 700, Cost: nan\n",
      "Epoch 800, Cost: nan\n",
      "Epoch 900, Cost: nan\n",
      "Trained Parameters (Theta):\n",
      "[[nan nan nan ... nan nan nan]\n",
      " [nan nan nan ... nan nan nan]\n",
      " [nan nan nan ... nan nan nan]\n",
      " ...\n",
      " [nan nan nan ... nan nan nan]\n",
      " [nan nan nan ... nan nan nan]\n",
      " [nan nan nan ... nan nan nan]]\n"
     ]
    }
   ],
   "source": [
    "\"\"\"import numpy as np\n",
    "\n",
    "# Define the Cost/Loss function (Mean Squared Error)\n",
    "def cost_function(y_true, y_pred):\n",
    "    m = len(y_true)\n",
    "    cost = (1/(2*m)) * np.sum((y_pred - y_true)**2)\n",
    "    return cost\n",
    "\n",
    "# Define the Derivative of Cost/Loss function\n",
    "def cost_derivative(y_true, y_pred):\n",
    "    m = len(y_true)\n",
    "    derivative = (1/m) * (y_pred - y_true)\n",
    "    return derivative\n",
    "\n",
    "# Define the Optimizer function (Gradient Descent)\n",
    "def optimizer(theta, learning_rate, derivative):\n",
    "    updated_theta = theta - learning_rate * derivative\n",
    "    return updated_theta\n",
    "\n",
    "# Define the Linear Regression Model\n",
    "def linear_regression_model(X, y, epochs, learning_rate):\n",
    "    m, n = X.shape\n",
    "    X = np.hstack((np.ones((m, 1)), X))  # Adding a column of ones for bias term\n",
    "    theta = np.zeros((n+1, 1))  # Initialize theta parameters with zeros\n",
    "    \n",
    "    for epoch in range(epochs):\n",
    "        # Forward pass\n",
    "        y_pred = np.dot(X, theta)\n",
    "        \n",
    "        # Calculate cost\n",
    "        cost = cost_function(y, y_pred)\n",
    "        \n",
    "        # Backward pass (compute the derivative of the cost function)\n",
    "        derivative = np.dot(X.T, cost_derivative(y, y_pred))\n",
    "        \n",
    "        # Update parameters using the optimizer\n",
    "        theta = optimizer(theta, learning_rate, derivative)\n",
    "        \n",
    "        # Print cost every 100 epochs\n",
    "        if epoch % 100 == 0:\n",
    "            print(f\"Epoch {epoch}, Cost: {cost}\")\n",
    "    \n",
    "    return theta\n",
    "\n",
    "# Example usage with your data (assuming X is the input features and y is the output)\n",
    "# Replace X and y with your actual data\n",
    "X = np.array(df_shuffled.iloc[:, 2:-1])  # Assuming you want to use features 2 to second-to-last for X\n",
    "y = np.array(df_shuffled.iloc[:, -1])  # Assuming the last column is your output\n",
    "\n",
    "# Hyperparameters\n",
    "epochs = 1000\n",
    "learning_rate = 0.01\n",
    "\n",
    "# Train the model\n",
    "trained_theta = linear_regression_model(X, y, epochs, learning_rate)\n",
    "\n",
    "# Print the trained parameters\n",
    "print(\"Trained Parameters (Theta):\")\n",
    "print(trained_theta)\"\"\"\n"
   ],
   "metadata": {
    "collapsed": false,
    "ExecuteTime": {
     "end_time": "2023-12-05T06:55:42.184016700Z",
     "start_time": "2023-12-05T06:51:05.285678900Z"
    }
   },
   "id": "8af5a20db89f501d"
  },
  {
   "cell_type": "code",
   "execution_count": 46,
   "outputs": [
    {
     "ename": "TypeError",
     "evalue": "unsupported operand type(s) for +: 'int' and 'str'",
     "output_type": "error",
     "traceback": [
      "\u001B[1;31m---------------------------------------------------------------------------\u001B[0m",
      "\u001B[1;31mTypeError\u001B[0m                                 Traceback (most recent call last)",
      "File \u001B[1;32mc:\\Users\\FurkanBulut\\anaconda3\\envs\\ML\\lib\\site-packages\\pandas\\core\\ops\\array_ops.py:165\u001B[0m, in \u001B[0;36m_na_arithmetic_op\u001B[1;34m(left, right, op, is_cmp)\u001B[0m\n\u001B[0;32m    164\u001B[0m \u001B[38;5;28;01mtry\u001B[39;00m:\n\u001B[1;32m--> 165\u001B[0m     result \u001B[38;5;241m=\u001B[39m \u001B[43mfunc\u001B[49m\u001B[43m(\u001B[49m\u001B[43mleft\u001B[49m\u001B[43m,\u001B[49m\u001B[43m \u001B[49m\u001B[43mright\u001B[49m\u001B[43m)\u001B[49m\n\u001B[0;32m    166\u001B[0m \u001B[38;5;28;01mexcept\u001B[39;00m \u001B[38;5;167;01mTypeError\u001B[39;00m:\n",
      "File \u001B[1;32mc:\\Users\\FurkanBulut\\anaconda3\\envs\\ML\\lib\\site-packages\\pandas\\core\\computation\\expressions.py:241\u001B[0m, in \u001B[0;36mevaluate\u001B[1;34m(op, a, b, use_numexpr)\u001B[0m\n\u001B[0;32m    239\u001B[0m     \u001B[38;5;28;01mif\u001B[39;00m use_numexpr:\n\u001B[0;32m    240\u001B[0m         \u001B[38;5;66;03m# error: \"None\" not callable\u001B[39;00m\n\u001B[1;32m--> 241\u001B[0m         \u001B[38;5;28;01mreturn\u001B[39;00m \u001B[43m_evaluate\u001B[49m\u001B[43m(\u001B[49m\u001B[43mop\u001B[49m\u001B[43m,\u001B[49m\u001B[43m \u001B[49m\u001B[43mop_str\u001B[49m\u001B[43m,\u001B[49m\u001B[43m \u001B[49m\u001B[43ma\u001B[49m\u001B[43m,\u001B[49m\u001B[43m \u001B[49m\u001B[43mb\u001B[49m\u001B[43m)\u001B[49m  \u001B[38;5;66;03m# type: ignore[misc]\u001B[39;00m\n\u001B[0;32m    242\u001B[0m \u001B[38;5;28;01mreturn\u001B[39;00m _evaluate_standard(op, op_str, a, b)\n",
      "File \u001B[1;32mc:\\Users\\FurkanBulut\\anaconda3\\envs\\ML\\lib\\site-packages\\pandas\\core\\computation\\expressions.py:129\u001B[0m, in \u001B[0;36m_evaluate_numexpr\u001B[1;34m(op, op_str, a, b)\u001B[0m\n\u001B[0;32m    128\u001B[0m \u001B[38;5;28;01mif\u001B[39;00m result \u001B[38;5;129;01mis\u001B[39;00m \u001B[38;5;28;01mNone\u001B[39;00m:\n\u001B[1;32m--> 129\u001B[0m     result \u001B[38;5;241m=\u001B[39m \u001B[43m_evaluate_standard\u001B[49m\u001B[43m(\u001B[49m\u001B[43mop\u001B[49m\u001B[43m,\u001B[49m\u001B[43m \u001B[49m\u001B[43mop_str\u001B[49m\u001B[43m,\u001B[49m\u001B[43m \u001B[49m\u001B[43ma\u001B[49m\u001B[43m,\u001B[49m\u001B[43m \u001B[49m\u001B[43mb\u001B[49m\u001B[43m)\u001B[49m\n\u001B[0;32m    131\u001B[0m \u001B[38;5;28;01mreturn\u001B[39;00m result\n",
      "File \u001B[1;32mc:\\Users\\FurkanBulut\\anaconda3\\envs\\ML\\lib\\site-packages\\pandas\\core\\computation\\expressions.py:70\u001B[0m, in \u001B[0;36m_evaluate_standard\u001B[1;34m(op, op_str, a, b)\u001B[0m\n\u001B[0;32m     69\u001B[0m     _store_test_result(\u001B[38;5;28;01mFalse\u001B[39;00m)\n\u001B[1;32m---> 70\u001B[0m \u001B[38;5;28;01mreturn\u001B[39;00m \u001B[43mop\u001B[49m\u001B[43m(\u001B[49m\u001B[43ma\u001B[49m\u001B[43m,\u001B[49m\u001B[43m \u001B[49m\u001B[43mb\u001B[49m\u001B[43m)\u001B[49m\n",
      "File \u001B[1;32mc:\\Users\\FurkanBulut\\anaconda3\\envs\\ML\\lib\\site-packages\\pandas\\core\\roperator.py:11\u001B[0m, in \u001B[0;36mradd\u001B[1;34m(left, right)\u001B[0m\n\u001B[0;32m     10\u001B[0m \u001B[38;5;28;01mdef\u001B[39;00m \u001B[38;5;21mradd\u001B[39m(left, right):\n\u001B[1;32m---> 11\u001B[0m     \u001B[38;5;28;01mreturn\u001B[39;00m \u001B[43mright\u001B[49m\u001B[43m \u001B[49m\u001B[38;5;241;43m+\u001B[39;49m\u001B[43m \u001B[49m\u001B[43mleft\u001B[49m\n",
      "\u001B[1;31mTypeError\u001B[0m: unsupported operand type(s) for +: 'int' and 'str'",
      "\nDuring handling of the above exception, another exception occurred:\n",
      "\u001B[1;31mTypeError\u001B[0m                                 Traceback (most recent call last)",
      "Cell \u001B[1;32mIn[46], line 41\u001B[0m\n\u001B[0;32m     38\u001B[0m     \u001B[38;5;28;01mreturn\u001B[39;00m theta0, theta1\n\u001B[0;32m     40\u001B[0m \u001B[38;5;66;03m# Modeli eğit\u001B[39;00m\n\u001B[1;32m---> 41\u001B[0m theta0, theta1 \u001B[38;5;241m=\u001B[39m \u001B[43mgradient_descent\u001B[49m\u001B[43m(\u001B[49m\u001B[43mX\u001B[49m\u001B[43m,\u001B[49m\u001B[43m \u001B[49m\u001B[43my\u001B[49m\u001B[43m,\u001B[49m\u001B[43m \u001B[49m\u001B[43mtheta0\u001B[49m\u001B[43m,\u001B[49m\u001B[43m \u001B[49m\u001B[43mtheta1\u001B[49m\u001B[43m,\u001B[49m\u001B[43m \u001B[49m\u001B[43mlearning_rate\u001B[49m\u001B[43m,\u001B[49m\u001B[43m \u001B[49m\u001B[43mepochs\u001B[49m\u001B[43m)\u001B[49m\n\u001B[0;32m     43\u001B[0m \u001B[38;5;66;03m# Eğitilmiş modeli kullanarak tahmin yap\u001B[39;00m\n\u001B[0;32m     44\u001B[0m \u001B[38;5;28;01mdef\u001B[39;00m \u001B[38;5;21mpredict\u001B[39m(x):\n",
      "Cell \u001B[1;32mIn[46], line 30\u001B[0m, in \u001B[0;36mgradient_descent\u001B[1;34m(X, y, theta0, theta1, learning_rate, epochs)\u001B[0m\n\u001B[0;32m     28\u001B[0m m \u001B[38;5;241m=\u001B[39m \u001B[38;5;28mlen\u001B[39m(y)\n\u001B[0;32m     29\u001B[0m \u001B[38;5;28;01mfor\u001B[39;00m epoch \u001B[38;5;129;01min\u001B[39;00m \u001B[38;5;28mrange\u001B[39m(epochs):\n\u001B[1;32m---> 30\u001B[0m     cost \u001B[38;5;241m=\u001B[39m \u001B[43mcompute_cost\u001B[49m\u001B[43m(\u001B[49m\u001B[43mX\u001B[49m\u001B[43m,\u001B[49m\u001B[43m \u001B[49m\u001B[43my\u001B[49m\u001B[43m,\u001B[49m\u001B[43m \u001B[49m\u001B[43mtheta0\u001B[49m\u001B[43m,\u001B[49m\u001B[43m \u001B[49m\u001B[43mtheta1\u001B[49m\u001B[43m)\u001B[49m\n\u001B[0;32m     31\u001B[0m     dtheta0, dtheta1 \u001B[38;5;241m=\u001B[39m compute_cost_derivative(X, y, theta0, theta1)\n\u001B[0;32m     32\u001B[0m     theta0 \u001B[38;5;241m=\u001B[39m theta0 \u001B[38;5;241m-\u001B[39m learning_rate \u001B[38;5;241m*\u001B[39m dtheta0\n",
      "Cell \u001B[1;32mIn[46], line 14\u001B[0m, in \u001B[0;36mcompute_cost\u001B[1;34m(X, y, theta0, theta1)\u001B[0m\n\u001B[0;32m     12\u001B[0m \u001B[38;5;28;01mdef\u001B[39;00m \u001B[38;5;21mcompute_cost\u001B[39m(X, y, theta0, theta1):\n\u001B[0;32m     13\u001B[0m     m \u001B[38;5;241m=\u001B[39m \u001B[38;5;28mlen\u001B[39m(y)\n\u001B[1;32m---> 14\u001B[0m     predictions \u001B[38;5;241m=\u001B[39m \u001B[43mtheta0\u001B[49m\u001B[43m \u001B[49m\u001B[38;5;241;43m+\u001B[39;49m\u001B[43m \u001B[49m\u001B[43mtheta1\u001B[49m\u001B[43m \u001B[49m\u001B[38;5;241;43m*\u001B[39;49m\u001B[43m \u001B[49m\u001B[43mX\u001B[49m\n\u001B[0;32m     15\u001B[0m     cost \u001B[38;5;241m=\u001B[39m (\u001B[38;5;241m1\u001B[39m\u001B[38;5;241m/\u001B[39m(\u001B[38;5;241m2\u001B[39m\u001B[38;5;241m*\u001B[39mm)) \u001B[38;5;241m*\u001B[39m np\u001B[38;5;241m.\u001B[39msum(np\u001B[38;5;241m.\u001B[39msquare(predictions \u001B[38;5;241m-\u001B[39m y))\n\u001B[0;32m     16\u001B[0m     \u001B[38;5;28;01mreturn\u001B[39;00m cost\n",
      "File \u001B[1;32mc:\\Users\\FurkanBulut\\anaconda3\\envs\\ML\\lib\\site-packages\\pandas\\core\\ops\\common.py:72\u001B[0m, in \u001B[0;36m_unpack_zerodim_and_defer.<locals>.new_method\u001B[1;34m(self, other)\u001B[0m\n\u001B[0;32m     68\u001B[0m             \u001B[38;5;28;01mreturn\u001B[39;00m \u001B[38;5;28mNotImplemented\u001B[39m\n\u001B[0;32m     70\u001B[0m other \u001B[38;5;241m=\u001B[39m item_from_zerodim(other)\n\u001B[1;32m---> 72\u001B[0m \u001B[38;5;28;01mreturn\u001B[39;00m \u001B[43mmethod\u001B[49m\u001B[43m(\u001B[49m\u001B[38;5;28;43mself\u001B[39;49m\u001B[43m,\u001B[49m\u001B[43m \u001B[49m\u001B[43mother\u001B[49m\u001B[43m)\u001B[49m\n",
      "File \u001B[1;32mc:\\Users\\FurkanBulut\\anaconda3\\envs\\ML\\lib\\site-packages\\pandas\\core\\arraylike.py:106\u001B[0m, in \u001B[0;36mOpsMixin.__radd__\u001B[1;34m(self, other)\u001B[0m\n\u001B[0;32m    104\u001B[0m \u001B[38;5;129m@unpack_zerodim_and_defer\u001B[39m(\u001B[38;5;124m\"\u001B[39m\u001B[38;5;124m__radd__\u001B[39m\u001B[38;5;124m\"\u001B[39m)\n\u001B[0;32m    105\u001B[0m \u001B[38;5;28;01mdef\u001B[39;00m \u001B[38;5;21m__radd__\u001B[39m(\u001B[38;5;28mself\u001B[39m, other):\n\u001B[1;32m--> 106\u001B[0m     \u001B[38;5;28;01mreturn\u001B[39;00m \u001B[38;5;28;43mself\u001B[39;49m\u001B[38;5;241;43m.\u001B[39;49m\u001B[43m_arith_method\u001B[49m\u001B[43m(\u001B[49m\u001B[43mother\u001B[49m\u001B[43m,\u001B[49m\u001B[43m \u001B[49m\u001B[43mroperator\u001B[49m\u001B[38;5;241;43m.\u001B[39;49m\u001B[43mradd\u001B[49m\u001B[43m)\u001B[49m\n",
      "File \u001B[1;32mc:\\Users\\FurkanBulut\\anaconda3\\envs\\ML\\lib\\site-packages\\pandas\\core\\frame.py:7594\u001B[0m, in \u001B[0;36mDataFrame._arith_method\u001B[1;34m(self, other, op)\u001B[0m\n\u001B[0;32m   7590\u001B[0m other \u001B[38;5;241m=\u001B[39m ops\u001B[38;5;241m.\u001B[39mmaybe_prepare_scalar_for_op(other, (\u001B[38;5;28mself\u001B[39m\u001B[38;5;241m.\u001B[39mshape[axis],))\n\u001B[0;32m   7592\u001B[0m \u001B[38;5;28mself\u001B[39m, other \u001B[38;5;241m=\u001B[39m ops\u001B[38;5;241m.\u001B[39malign_method_FRAME(\u001B[38;5;28mself\u001B[39m, other, axis, flex\u001B[38;5;241m=\u001B[39m\u001B[38;5;28;01mTrue\u001B[39;00m, level\u001B[38;5;241m=\u001B[39m\u001B[38;5;28;01mNone\u001B[39;00m)\n\u001B[1;32m-> 7594\u001B[0m new_data \u001B[38;5;241m=\u001B[39m \u001B[38;5;28;43mself\u001B[39;49m\u001B[38;5;241;43m.\u001B[39;49m\u001B[43m_dispatch_frame_op\u001B[49m\u001B[43m(\u001B[49m\u001B[43mother\u001B[49m\u001B[43m,\u001B[49m\u001B[43m \u001B[49m\u001B[43mop\u001B[49m\u001B[43m,\u001B[49m\u001B[43m \u001B[49m\u001B[43maxis\u001B[49m\u001B[38;5;241;43m=\u001B[39;49m\u001B[43maxis\u001B[49m\u001B[43m)\u001B[49m\n\u001B[0;32m   7595\u001B[0m \u001B[38;5;28;01mreturn\u001B[39;00m \u001B[38;5;28mself\u001B[39m\u001B[38;5;241m.\u001B[39m_construct_result(new_data)\n",
      "File \u001B[1;32mc:\\Users\\FurkanBulut\\anaconda3\\envs\\ML\\lib\\site-packages\\pandas\\core\\frame.py:7621\u001B[0m, in \u001B[0;36mDataFrame._dispatch_frame_op\u001B[1;34m(self, right, func, axis)\u001B[0m\n\u001B[0;32m   7618\u001B[0m \u001B[38;5;28;01mif\u001B[39;00m \u001B[38;5;129;01mnot\u001B[39;00m is_list_like(right):\n\u001B[0;32m   7619\u001B[0m     \u001B[38;5;66;03m# i.e. scalar, faster than checking np.ndim(right) == 0\u001B[39;00m\n\u001B[0;32m   7620\u001B[0m     \u001B[38;5;28;01mwith\u001B[39;00m np\u001B[38;5;241m.\u001B[39merrstate(\u001B[38;5;28mall\u001B[39m\u001B[38;5;241m=\u001B[39m\u001B[38;5;124m\"\u001B[39m\u001B[38;5;124mignore\u001B[39m\u001B[38;5;124m\"\u001B[39m):\n\u001B[1;32m-> 7621\u001B[0m         bm \u001B[38;5;241m=\u001B[39m \u001B[38;5;28;43mself\u001B[39;49m\u001B[38;5;241;43m.\u001B[39;49m\u001B[43m_mgr\u001B[49m\u001B[38;5;241;43m.\u001B[39;49m\u001B[43mapply\u001B[49m\u001B[43m(\u001B[49m\u001B[43marray_op\u001B[49m\u001B[43m,\u001B[49m\u001B[43m \u001B[49m\u001B[43mright\u001B[49m\u001B[38;5;241;43m=\u001B[39;49m\u001B[43mright\u001B[49m\u001B[43m)\u001B[49m\n\u001B[0;32m   7622\u001B[0m     \u001B[38;5;28;01mreturn\u001B[39;00m \u001B[38;5;28mself\u001B[39m\u001B[38;5;241m.\u001B[39m_constructor(bm)\n\u001B[0;32m   7624\u001B[0m \u001B[38;5;28;01melif\u001B[39;00m \u001B[38;5;28misinstance\u001B[39m(right, DataFrame):\n",
      "File \u001B[1;32mc:\\Users\\FurkanBulut\\anaconda3\\envs\\ML\\lib\\site-packages\\pandas\\core\\internals\\managers.py:350\u001B[0m, in \u001B[0;36mBaseBlockManager.apply\u001B[1;34m(self, f, align_keys, ignore_failures, **kwargs)\u001B[0m\n\u001B[0;32m    348\u001B[0m \u001B[38;5;28;01mtry\u001B[39;00m:\n\u001B[0;32m    349\u001B[0m     \u001B[38;5;28;01mif\u001B[39;00m \u001B[38;5;28mcallable\u001B[39m(f):\n\u001B[1;32m--> 350\u001B[0m         applied \u001B[38;5;241m=\u001B[39m b\u001B[38;5;241m.\u001B[39mapply(f, \u001B[38;5;241m*\u001B[39m\u001B[38;5;241m*\u001B[39mkwargs)\n\u001B[0;32m    351\u001B[0m     \u001B[38;5;28;01melse\u001B[39;00m:\n\u001B[0;32m    352\u001B[0m         applied \u001B[38;5;241m=\u001B[39m \u001B[38;5;28mgetattr\u001B[39m(b, f)(\u001B[38;5;241m*\u001B[39m\u001B[38;5;241m*\u001B[39mkwargs)\n",
      "File \u001B[1;32mc:\\Users\\FurkanBulut\\anaconda3\\envs\\ML\\lib\\site-packages\\pandas\\core\\internals\\blocks.py:351\u001B[0m, in \u001B[0;36mBlock.apply\u001B[1;34m(self, func, **kwargs)\u001B[0m\n\u001B[0;32m    345\u001B[0m \u001B[38;5;129m@final\u001B[39m\n\u001B[0;32m    346\u001B[0m \u001B[38;5;28;01mdef\u001B[39;00m \u001B[38;5;21mapply\u001B[39m(\u001B[38;5;28mself\u001B[39m, func, \u001B[38;5;241m*\u001B[39m\u001B[38;5;241m*\u001B[39mkwargs) \u001B[38;5;241m-\u001B[39m\u001B[38;5;241m>\u001B[39m \u001B[38;5;28mlist\u001B[39m[Block]:\n\u001B[0;32m    347\u001B[0m \u001B[38;5;250m    \u001B[39m\u001B[38;5;124;03m\"\"\"\u001B[39;00m\n\u001B[0;32m    348\u001B[0m \u001B[38;5;124;03m    apply the function to my values; return a block if we are not\u001B[39;00m\n\u001B[0;32m    349\u001B[0m \u001B[38;5;124;03m    one\u001B[39;00m\n\u001B[0;32m    350\u001B[0m \u001B[38;5;124;03m    \"\"\"\u001B[39;00m\n\u001B[1;32m--> 351\u001B[0m     result \u001B[38;5;241m=\u001B[39m func(\u001B[38;5;28mself\u001B[39m\u001B[38;5;241m.\u001B[39mvalues, \u001B[38;5;241m*\u001B[39m\u001B[38;5;241m*\u001B[39mkwargs)\n\u001B[0;32m    353\u001B[0m     \u001B[38;5;28;01mreturn\u001B[39;00m \u001B[38;5;28mself\u001B[39m\u001B[38;5;241m.\u001B[39m_split_op_result(result)\n",
      "File \u001B[1;32mc:\\Users\\FurkanBulut\\anaconda3\\envs\\ML\\lib\\site-packages\\pandas\\core\\ops\\array_ops.py:226\u001B[0m, in \u001B[0;36marithmetic_op\u001B[1;34m(left, right, op)\u001B[0m\n\u001B[0;32m    222\u001B[0m     _bool_arith_check(op, left, right)\n\u001B[0;32m    224\u001B[0m     \u001B[38;5;66;03m# error: Argument 1 to \"_na_arithmetic_op\" has incompatible type\u001B[39;00m\n\u001B[0;32m    225\u001B[0m     \u001B[38;5;66;03m# \"Union[ExtensionArray, ndarray[Any, Any]]\"; expected \"ndarray[Any, Any]\"\u001B[39;00m\n\u001B[1;32m--> 226\u001B[0m     res_values \u001B[38;5;241m=\u001B[39m \u001B[43m_na_arithmetic_op\u001B[49m\u001B[43m(\u001B[49m\u001B[43mleft\u001B[49m\u001B[43m,\u001B[49m\u001B[43m \u001B[49m\u001B[43mright\u001B[49m\u001B[43m,\u001B[49m\u001B[43m \u001B[49m\u001B[43mop\u001B[49m\u001B[43m)\u001B[49m  \u001B[38;5;66;03m# type: ignore[arg-type]\u001B[39;00m\n\u001B[0;32m    228\u001B[0m \u001B[38;5;28;01mreturn\u001B[39;00m res_values\n",
      "File \u001B[1;32mc:\\Users\\FurkanBulut\\anaconda3\\envs\\ML\\lib\\site-packages\\pandas\\core\\ops\\array_ops.py:172\u001B[0m, in \u001B[0;36m_na_arithmetic_op\u001B[1;34m(left, right, op, is_cmp)\u001B[0m\n\u001B[0;32m    166\u001B[0m \u001B[38;5;28;01mexcept\u001B[39;00m \u001B[38;5;167;01mTypeError\u001B[39;00m:\n\u001B[0;32m    167\u001B[0m     \u001B[38;5;28;01mif\u001B[39;00m \u001B[38;5;129;01mnot\u001B[39;00m is_cmp \u001B[38;5;129;01mand\u001B[39;00m (is_object_dtype(left\u001B[38;5;241m.\u001B[39mdtype) \u001B[38;5;129;01mor\u001B[39;00m is_object_dtype(right)):\n\u001B[0;32m    168\u001B[0m         \u001B[38;5;66;03m# For object dtype, fallback to a masked operation (only operating\u001B[39;00m\n\u001B[0;32m    169\u001B[0m         \u001B[38;5;66;03m#  on the non-missing values)\u001B[39;00m\n\u001B[0;32m    170\u001B[0m         \u001B[38;5;66;03m# Don't do this for comparisons, as that will handle complex numbers\u001B[39;00m\n\u001B[0;32m    171\u001B[0m         \u001B[38;5;66;03m#  incorrectly, see GH#32047\u001B[39;00m\n\u001B[1;32m--> 172\u001B[0m         result \u001B[38;5;241m=\u001B[39m \u001B[43m_masked_arith_op\u001B[49m\u001B[43m(\u001B[49m\u001B[43mleft\u001B[49m\u001B[43m,\u001B[49m\u001B[43m \u001B[49m\u001B[43mright\u001B[49m\u001B[43m,\u001B[49m\u001B[43m \u001B[49m\u001B[43mop\u001B[49m\u001B[43m)\u001B[49m\n\u001B[0;32m    173\u001B[0m     \u001B[38;5;28;01melse\u001B[39;00m:\n\u001B[0;32m    174\u001B[0m         \u001B[38;5;28;01mraise\u001B[39;00m\n",
      "File \u001B[1;32mc:\\Users\\FurkanBulut\\anaconda3\\envs\\ML\\lib\\site-packages\\pandas\\core\\ops\\array_ops.py:129\u001B[0m, in \u001B[0;36m_masked_arith_op\u001B[1;34m(x, y, op)\u001B[0m\n\u001B[0;32m    126\u001B[0m         mask \u001B[38;5;241m=\u001B[39m np\u001B[38;5;241m.\u001B[39mwhere(y \u001B[38;5;241m==\u001B[39m \u001B[38;5;241m1\u001B[39m, \u001B[38;5;28;01mFalse\u001B[39;00m, mask)\n\u001B[0;32m    128\u001B[0m     \u001B[38;5;28;01mif\u001B[39;00m mask\u001B[38;5;241m.\u001B[39many():\n\u001B[1;32m--> 129\u001B[0m         result[mask] \u001B[38;5;241m=\u001B[39m \u001B[43mop\u001B[49m\u001B[43m(\u001B[49m\u001B[43mxrav\u001B[49m\u001B[43m[\u001B[49m\u001B[43mmask\u001B[49m\u001B[43m]\u001B[49m\u001B[43m,\u001B[49m\u001B[43m \u001B[49m\u001B[43my\u001B[49m\u001B[43m)\u001B[49m\n\u001B[0;32m    131\u001B[0m np\u001B[38;5;241m.\u001B[39mputmask(result, \u001B[38;5;241m~\u001B[39mmask, np\u001B[38;5;241m.\u001B[39mnan)\n\u001B[0;32m    132\u001B[0m result \u001B[38;5;241m=\u001B[39m result\u001B[38;5;241m.\u001B[39mreshape(x\u001B[38;5;241m.\u001B[39mshape)  \u001B[38;5;66;03m# 2D compat\u001B[39;00m\n",
      "File \u001B[1;32mc:\\Users\\FurkanBulut\\anaconda3\\envs\\ML\\lib\\site-packages\\pandas\\core\\roperator.py:11\u001B[0m, in \u001B[0;36mradd\u001B[1;34m(left, right)\u001B[0m\n\u001B[0;32m     10\u001B[0m \u001B[38;5;28;01mdef\u001B[39;00m \u001B[38;5;21mradd\u001B[39m(left, right):\n\u001B[1;32m---> 11\u001B[0m     \u001B[38;5;28;01mreturn\u001B[39;00m \u001B[43mright\u001B[49m\u001B[43m \u001B[49m\u001B[38;5;241;43m+\u001B[39;49m\u001B[43m \u001B[49m\u001B[43mleft\u001B[49m\n",
      "\u001B[1;31mTypeError\u001B[0m: unsupported operand type(s) for +: 'int' and 'str'"
     ]
    }
   ],
   "source": [
    "\"\"\"import numpy as np\n",
    "\n",
    "# Model parametreleri\n",
    "theta0 = 0\n",
    "theta1 = 0\n",
    "\n",
    "# Hiperparametreler\n",
    "learning_rate = 0.01\n",
    "epochs = 1000\n",
    "\n",
    "# Cost/Loss fonksiyonu\n",
    "def compute_cost(X, y, theta0, theta1):\n",
    "    m = len(y)\n",
    "    predictions = theta0 + theta1 * X\n",
    "    cost = (1/(2*m)) * np.sum(np.square(predictions - y))\n",
    "    return cost\n",
    "\n",
    "# Cost/Loss fonksiyonunun türetilmesi\n",
    "def compute_cost_derivative(X, y, theta0, theta1):\n",
    "    m = len(y)\n",
    "    predictions = theta0 + theta1 * X\n",
    "    dtheta0 = (1/m) * np.sum(predictions - y)\n",
    "    dtheta1 = (1/m) * np.sum((predictions - y) * X)\n",
    "    return dtheta0, dtheta1\n",
    "\n",
    "# Optimizasyon fonksiyonu\n",
    "def gradient_descent(X, y, theta0, theta1, learning_rate, epochs):\n",
    "    m = len(y)\n",
    "    for epoch in range(epochs):\n",
    "        cost = compute_cost(X, y, theta0, theta1)\n",
    "        dtheta0, dtheta1 = compute_cost_derivative(X, y, theta0, theta1)\n",
    "        theta0 = theta0 - learning_rate * dtheta0\n",
    "        theta1 = theta1 - learning_rate * dtheta1\n",
    "\n",
    "        if epoch % 100 == 0:\n",
    "            print(f'Epoch {epoch}, Cost: {cost}')\n",
    "\n",
    "    return theta0, theta1\n",
    "\n",
    "# Modeli eğit\n",
    "theta0, theta1 = gradient_descent(X, y, theta0, theta1, learning_rate, epochs)\n",
    "\n",
    "# Eğitilmiş modeli kullanarak tahmin yap\n",
    "def predict(x):\n",
    "    return theta0 + theta1 * x\n",
    "\n",
    "# Örnek kullanım\n",
    "sample_input = 3.0  # Örneğin, 'TP DK USD S YTL' sütunundan bir değer\n",
    "predicted_output = predict(sample_input)\n",
    "print(f'Tahmin edilen çıktı: {predicted_output}')\n",
    "\"\"\""
   ],
   "metadata": {
    "collapsed": false,
    "ExecuteTime": {
     "end_time": "2023-12-05T06:59:14.576757500Z",
     "start_time": "2023-12-05T06:59:13.809790500Z"
    }
   },
   "id": "c5d09bc7034fb725"
  },
  {
   "cell_type": "code",
   "execution_count": 35,
   "outputs": [
    {
     "name": "stdout",
     "output_type": "stream",
     "text": [
      "Mean Squared Error: 2.4960100172066e-06\n"
     ]
    }
   ],
   "source": [
    "\"\"\"# calculate the mse without using any python library\n",
    "def mse(y_true, y_pred):\n",
    "    m = len(y_true)\n",
    "    squared_error = (y_true - y_pred)**2\n",
    "    return (1/m) * np.sum(squared_error)\n",
    "# and use it to calculate the mse of the model\n",
    "y_pred = predict(X)\n",
    "print(f\"Mean Squared Error: {mse(y, y_pred)}\")\"\"\"\n"
   ],
   "metadata": {
    "collapsed": false,
    "ExecuteTime": {
     "end_time": "2023-12-05T06:57:17.443610300Z",
     "start_time": "2023-12-05T06:57:17.427853100Z"
    }
   },
   "id": "b27c4812c4d38eb8"
  },
  {
   "cell_type": "code",
   "execution_count": 47,
   "outputs": [
    {
     "name": "stdout",
     "output_type": "stream",
     "text": [
      "Missing values:\n",
      " No                  0\n",
      "Tarih              24\n",
      "TP DK USD S YTL    24\n",
      "TP DK EUR S YTL    24\n",
      "TP DK GBP S YTL    24\n",
      "TP DK SEK S YTL    24\n",
      "TP DK CHF S YTL    24\n",
      "TP DK CAD S YTL    24\n",
      "TP DK KWD S YTL    24\n",
      "TP DK SAR S YTL    24\n",
      "dtype: int64\n",
      "Column names: ['No', 'Tarih', 'TP DK USD S YTL', 'TP DK EUR S YTL', 'TP DK GBP S YTL', 'TP DK SEK S YTL', 'TP DK CHF S YTL', 'TP DK CAD S YTL', 'TP DK KWD S YTL', 'TP DK SAR S YTL']\n",
      "\n",
      "Eğitim Verisi:\n",
      "        No       Tarih  TP DK USD S YTL  TP DK EUR S YTL  TP DK GBP S YTL  \\\n",
      "4260  4261  13-12-2021          13.8596          15.6375          18.3338   \n",
      "15      16  26-01-2005           1.3334           1.7402           2.5032   \n",
      "4383  4384  08-06-2022          16.7385          17.8730          20.9409   \n",
      "2390  2391  30-06-2014           2.1272           2.8971           3.6282   \n",
      "4639  4640  12-06-2023          23.4736          25.2777          29.5102   \n",
      "\n",
      "      TP DK SEK S YTL  TP DK CHF S YTL  TP DK CAD S YTL  TP DK KWD S YTL  \n",
      "4260          1.53460          15.0290          10.9170          46.0105  \n",
      "15            0.19191           1.1266           1.0888           4.5664  \n",
      "4383          1.70950          17.1925          13.3062          54.9275  \n",
      "2390          0.31633           2.3874           1.9923           7.5889  \n",
      "4639          2.17680          26.1211          17.6256          76.8131  \n",
      "\n",
      "Test Verisi:\n",
      "        No       Tarih  TP DK USD S YTL  TP DK EUR S YTL  TP DK GBP S YTL  \\\n",
      "2827  2828  23-03-2016           2.8775           3.2280           4.1173   \n",
      "1104  1105  21-05-2009           1.5346           2.0949           2.3786   \n",
      "4371  4372  23-05-2022          15.9536          16.8786          19.9406   \n",
      "2004  2005  14-12-2012           1.7791           2.3247           2.8700   \n",
      "3264  3265  18-12-2017           3.8660           4.5593           5.1990   \n",
      "\n",
      "      TP DK SEK S YTL  TP DK CHF S YTL  TP DK CAD S YTL  TP DK KWD S YTL  \n",
      "2827          0.35035           2.9708           2.2027           9.6061  \n",
      "1104          0.19984           1.3848           1.3296           5.2990  \n",
      "4371          1.61560          16.4495          12.4897          52.3811  \n",
      "2004          0.26667           1.9219           1.8093           6.3201  \n",
      "3264          0.46049           3.9207           3.0347          12.8728  \n"
     ]
    }
   ],
   "source": [
    "import pandas as pd\n",
    "import numpy as np\n",
    "\n",
    "# Dosyayı yükleme\n",
    "file_path = 'C:/Users/FurkanBulut/Desktop/dataa.xlsx'\n",
    "data = pd.read_excel(file_path) \n",
    "\n",
    "# İlk beş satırı göster\n",
    "data.head()\n",
    "\n",
    "# Eksik veri kontrolü yapma\n",
    "missing_values = data.isnull().sum()\n",
    "print(\"Missing values:\\n\", missing_values)\n",
    "\n",
    "# Eksik verileri içeren satırları kaldırma\n",
    "data_cleaned = data.dropna()\n",
    "\n",
    "# Eksik verileri kaldırdıktan sonra veri setinin istatistiksel özetini al\n",
    "data_cleaned.describe()\n",
    "\n",
    "# Kolon isimlerini yazdırma\n",
    "print(\"Column names:\", data_cleaned.columns.tolist())\n",
    "\n",
    "# Özellikler (features) ve hedef değişken (target) belirleme\n",
    "features = ['No', 'Tarih', 'TP DK USD S YTL', 'TP DK EUR S YTL', 'TP DK GBP S YTL', 'TP DK SEK S YTL', 'TP DK CHF S YTL', 'TP DK CAD S YTL', 'TP DK KWD S YTL']\n",
    "target = ['TP DK SAR S YTL']\n",
    "\n",
    "X = data_cleaned[features]\n",
    "y = data_cleaned[target]\n",
    "\n",
    "# Veriyi karıştırma\n",
    "shuffled_indices = np.random.permutation(len(data_cleaned))\n",
    "df_shuffled = data_cleaned.iloc[shuffled_indices]\n",
    "\n",
    "# Eğitim ve test verisi oranı\n",
    "train_ratio = 0.8  # Eğitim verisinin oranı\n",
    "\n",
    "# Veriyi iki alt kümeye ayır\n",
    "train_size = int(len(df_shuffled) * train_ratio)\n",
    "train_data = df_shuffled.iloc[:train_size]\n",
    "test_data = df_shuffled.iloc[train_size:]\n",
    "\n",
    "# Eğitim ve test verilerini bağımsız ve bağımlı değişkenlere ayırma\n",
    "X_train, y_train = train_data[features], train_data[target]\n",
    "X_test, y_test = test_data[features], test_data[target]\n",
    "\n",
    "# Eğitim verisi\n",
    "print(\"\\nEğitim Verisi:\")\n",
    "print(X_train.head())\n",
    "\n",
    "# Test verisi\n",
    "print(\"\\nTest Verisi:\")\n",
    "print(X_test.head())\n"
   ],
   "metadata": {
    "collapsed": false,
    "ExecuteTime": {
     "end_time": "2023-12-05T07:02:17.877454500Z",
     "start_time": "2023-12-05T07:02:17.231480900Z"
    }
   },
   "id": "d79e14bb725cdb48"
  },
  {
   "cell_type": "code",
   "execution_count": 49,
   "outputs": [
    {
     "name": "stdout",
     "output_type": "stream",
     "text": [
      "Epoch 0, Cost: 524.9148782587981\n",
      "Epoch 100, Cost: 1.494275092338044e+184\n",
      "Epoch 200, Cost: inf\n",
      "Epoch 300, Cost: inf\n",
      "Epoch 400, Cost: nan\n",
      "Epoch 500, Cost: nan\n",
      "Epoch 600, Cost: nan\n",
      "Epoch 700, Cost: nan\n",
      "Epoch 800, Cost: nan\n",
      "Epoch 900, Cost: nan\n",
      "Trained Weights:\n",
      "[[nan]\n",
      " [nan]\n",
      " [nan]\n",
      " [nan]\n",
      " [nan]\n",
      " [nan]\n",
      " [nan]]\n",
      "Trained Bias: nan\n"
     ]
    },
    {
     "name": "stderr",
     "output_type": "stream",
     "text": [
      "c:\\Users\\FurkanBulut\\anaconda3\\envs\\ML\\lib\\site-packages\\numpy\\core\\_methods.py:118: RuntimeWarning: overflow encountered in reduce\n",
      "  ret = umr_sum(arr, axis, dtype, out, keepdims, where=where)\n",
      "C:\\Users\\FurkanBulut\\AppData\\Local\\Temp\\ipykernel_15620\\134035265.py:25: RuntimeWarning: overflow encountered in square\n",
      "  cost = np.mean(errors**2) / 2.0\n",
      "C:\\Users\\FurkanBulut\\AppData\\Local\\Temp\\ipykernel_15620\\134035265.py:32: RuntimeWarning: invalid value encountered in subtract\n",
      "  weights -= learning_rate * gradient_weights\n"
     ]
    }
   ],
   "source": [
    "import numpy as np\n",
    "\n",
    "# Veriyi oluşturma\n",
    "X_train_np = X_train[['TP DK USD S YTL', 'TP DK EUR S YTL', 'TP DK GBP S YTL', 'TP DK SEK S YTL', 'TP DK CHF S YTL', 'TP DK CAD S YTL', 'TP DK KWD S YTL']].to_numpy()\n",
    "y_train_np = y_train.to_numpy()\n",
    "\n",
    "# Model parametrelerini başlatma\n",
    "np.random.seed(0)\n",
    "weights = np.random.rand(X_train_np.shape[1], 1)  # Ağırlıkları sütun vektörüne çevir\n",
    "bias = np.random.rand()\n",
    "\n",
    "# Hyperparameters\n",
    "learning_rate = 0.01\n",
    "epochs = 1000\n",
    "\n",
    "# Eğitim\n",
    "for epoch in range(epochs):\n",
    "    # Tahmin hesaplama\n",
    "    predictions = np.dot(X_train_np, weights) + bias\n",
    "    \n",
    "    # Hata hesaplama\n",
    "    errors = predictions - y_train_np\n",
    "    \n",
    "    # Cost (Maliyet) hesaplama\n",
    "    cost = np.mean(errors**2) / 2.0\n",
    "    \n",
    "    # Gradyan Hesaplama\n",
    "    gradient_weights = np.dot(X_train_np.T, errors) / len(y_train_np)\n",
    "    gradient_bias = np.mean(errors)\n",
    "    \n",
    "    # Parametre Güncelleme\n",
    "    weights -= learning_rate * gradient_weights\n",
    "    bias -= learning_rate * gradient_bias\n",
    "    \n",
    "    # Her 100 iterasyonda bir maliyeti yazdırma\n",
    "    if epoch % 100 == 0:\n",
    "        print(f'Epoch {epoch}, Cost: {cost}')\n",
    "\n",
    "# Eğitilmiş modelin parametreleri\n",
    "print(f'Trained Weights:\\n{weights}')\n",
    "print(f'Trained Bias: {bias}')\n"
   ],
   "metadata": {
    "collapsed": false,
    "ExecuteTime": {
     "end_time": "2023-12-05T07:05:43.778268500Z",
     "start_time": "2023-12-05T07:05:43.703447200Z"
    }
   },
   "id": "c1af05fec3b38b5b"
  },
  {
   "cell_type": "code",
   "execution_count": 50,
   "outputs": [
    {
     "name": "stdout",
     "output_type": "stream",
     "text": [
      "Epoch 0, Cost: 2.9375905784426406\n",
      "Epoch 100, Cost: 0.011462557810274375\n",
      "Epoch 200, Cost: 0.003130862848782572\n",
      "Epoch 300, Cost: 0.00200114955637146\n",
      "Epoch 400, Cost: 0.001836294982845001\n",
      "Epoch 500, Cost: 0.0018008453744684807\n",
      "Epoch 600, Cost: 0.0017828655238352675\n",
      "Epoch 700, Cost: 0.0017673570176979002\n",
      "Epoch 800, Cost: 0.001752309017483152\n",
      "Epoch 900, Cost: 0.0017374507700056423\n",
      "Trained Weights:\n",
      "[[0.22826755]\n",
      " [0.36402956]\n",
      " [0.24985745]\n",
      " [0.17899275]\n",
      " [0.08517724]\n",
      " [0.3052664 ]\n",
      " [0.11194294]]\n",
      "Trained Bias: 1.2703253867738356\n"
     ]
    }
   ],
   "source": [
    "# Veriyi standartlaştırma (z-score normalization)\n",
    "mean = np.mean(X_train_np, axis=0)\n",
    "std = np.std(X_train_np, axis=0)\n",
    "X_train_np = (X_train_np - mean) / std\n",
    "\n",
    "# Model parametrelerini başlatma\n",
    "np.random.seed(0)\n",
    "weights = np.random.rand(X_train_np.shape[1], 1)\n",
    "bias = np.random.rand()\n",
    "\n",
    "# Hyperparameters\n",
    "learning_rate = 0.01\n",
    "epochs = 1000\n",
    "\n",
    "# Eğitim\n",
    "for epoch in range(epochs):\n",
    "    # Tahmin hesaplama\n",
    "    predictions = np.dot(X_train_np, weights) + bias\n",
    "    \n",
    "    # Hata hesaplama\n",
    "    errors = predictions - y_train_np\n",
    "    \n",
    "    # Cost (Maliyet) hesaplama\n",
    "    cost = np.mean(errors**2) / 2.0\n",
    "    \n",
    "    # Gradyan Hesaplama\n",
    "    gradient_weights = np.dot(X_train_np.T, errors) / len(y_train_np)\n",
    "    gradient_bias = np.mean(errors)\n",
    "    \n",
    "    # Parametre Güncelleme\n",
    "    weights -= learning_rate * gradient_weights\n",
    "    bias -= learning_rate * gradient_bias\n",
    "    \n",
    "    # Her 100 iterasyonda bir maliyeti yazdırma\n",
    "    if epoch % 100 == 0:\n",
    "        print(f'Epoch {epoch}, Cost: {cost}')\n",
    "\n",
    "# Eğitilmiş modelin parametreleri\n",
    "print(f'Trained Weights:\\n{weights}')\n",
    "print(f'Trained Bias: {bias}')\n"
   ],
   "metadata": {
    "collapsed": false,
    "ExecuteTime": {
     "end_time": "2023-12-05T07:06:22.406892400Z",
     "start_time": "2023-12-05T07:06:22.350882400Z"
    }
   },
   "id": "a1bdf1ff03f6eedd"
  },
  {
   "cell_type": "code",
   "execution_count": 51,
   "outputs": [
    {
     "name": "stdout",
     "output_type": "stream",
     "text": [
      "Training MSE: 0.003445489344713503\n",
      "Test MSE: 118.14013157412936\n"
     ]
    }
   ],
   "source": [
    "def calculate_mse(X, y, weights, bias):\n",
    "    predictions = np.dot(X, weights) + bias\n",
    "    errors = predictions - y\n",
    "    mse = np.mean(errors**2)\n",
    "    return mse\n",
    "\n",
    "# Eğitim verisi üzerinde modelin MSE değerini hesapla\n",
    "train_mse = calculate_mse(X_train_np, y_train_np, weights, bias)\n",
    "print(f'Training MSE: {train_mse}')\n",
    "\n",
    "# Test verisi üzerinde modelin MSE değerini hesapla\n",
    "X_test_np = X_test[['TP DK USD S YTL', 'TP DK EUR S YTL', 'TP DK GBP S YTL', 'TP DK SEK S YTL', 'TP DK CHF S YTL', 'TP DK CAD S YTL', 'TP DK KWD S YTL']].to_numpy()\n",
    "y_test_np = y_test.to_numpy()\n",
    "test_mse = calculate_mse(X_test_np, y_test_np, weights, bias)\n",
    "print(f'Test MSE: {test_mse}')\n"
   ],
   "metadata": {
    "collapsed": false,
    "ExecuteTime": {
     "end_time": "2023-12-05T07:06:52.414411Z",
     "start_time": "2023-12-05T07:06:52.366408600Z"
    }
   },
   "id": "9a41f4d1a2123b79"
  },
  {
   "cell_type": "code",
   "execution_count": 52,
   "outputs": [
    {
     "name": "stdout",
     "output_type": "stream",
     "text": [
      "Epoch 0, Cost: 5.795106072240681\n",
      "Epoch 100, Cost: 1.509913792729562\n",
      "Epoch 200, Cost: 0.44121245332073206\n",
      "Epoch 300, Cost: 0.1662263886676174\n",
      "Epoch 400, Cost: 0.08864163782820907\n",
      "Epoch 500, Cost: 0.06140866879421096\n",
      "Epoch 600, Cost: 0.04803663349442916\n",
      "Epoch 700, Cost: 0.03928340395634166\n",
      "Epoch 800, Cost: 0.032656653382187324\n",
      "Epoch 900, Cost: 0.027363807494128152\n",
      "Epoch 1000, Cost: 0.02306288538217575\n",
      "Epoch 1100, Cost: 0.019549389640076294\n",
      "Epoch 1200, Cost: 0.01667446753567494\n",
      "Epoch 1300, Cost: 0.014320825066707751\n",
      "Epoch 1400, Cost: 0.012393562072552686\n",
      "Epoch 1500, Cost: 0.010815264684662346\n",
      "Epoch 1600, Cost: 0.009522626014568783\n",
      "Epoch 1700, Cost: 0.008463836646271945\n",
      "Epoch 1800, Cost: 0.007596486967094831\n",
      "Epoch 1900, Cost: 0.006885859406362353\n",
      "Epoch 2000, Cost: 0.006303532713196087\n",
      "Epoch 2100, Cost: 0.005826239924304488\n",
      "Epoch 2200, Cost: 0.005434933581847512\n",
      "Epoch 2300, Cost: 0.00511402050986031\n",
      "Epoch 2400, Cost: 0.004850735373407432\n",
      "Epoch 2500, Cost: 0.004634627845617842\n",
      "Epoch 2600, Cost: 0.004457142778094786\n",
      "Epoch 2700, Cost: 0.004311276508040149\n",
      "Epoch 2800, Cost: 0.004191295494516034\n",
      "Epoch 2900, Cost: 0.004092505980356343\n",
      "Epoch 3000, Cost: 0.004011065426163003\n",
      "Epoch 3100, Cost: 0.003943828140967638\n",
      "Epoch 3200, Cost: 0.0038882189079539617\n",
      "Epoch 3300, Cost: 0.0038421295283028634\n",
      "Epoch 3400, Cost: 0.003803834126932879\n",
      "Epoch 3500, Cost: 0.0037719198176433474\n",
      "Epoch 3600, Cost: 0.0037452299422150747\n",
      "Epoch 3700, Cost: 0.0037228176031667407\n",
      "Epoch 3800, Cost: 0.0037039076234000566\n",
      "Epoch 3900, Cost: 0.0036878654045080224\n",
      "Epoch 4000, Cost: 0.0036741714326652417\n",
      "Epoch 4100, Cost: 0.0036624004079049786\n",
      "Epoch 4200, Cost: 0.0036522041583262757\n",
      "Epoch 4300, Cost: 0.0036432976528295233\n",
      "Epoch 4400, Cost: 0.0036354475504588534\n",
      "Epoch 4500, Cost: 0.003628462826334697\n",
      "Epoch 4600, Cost: 0.0036221870975844243\n",
      "Epoch 4700, Cost: 0.0036164923409744334\n",
      "Epoch 4800, Cost: 0.0036112737498570488\n",
      "Epoch 4900, Cost: 0.003606445523816111\n",
      "Trained Weights:\n",
      "[[0.21754735]\n",
      " [0.3684149 ]\n",
      " [0.25517409]\n",
      " [0.19086207]\n",
      " [0.08336706]\n",
      " [0.30447864]\n",
      " [0.1037062 ]]\n",
      "Trained Bias: 1.267797327244138\n",
      "Training MSE: 0.003601981116422309\n",
      "Test MSE: 113.8671680267139\n"
     ]
    }
   ],
   "source": [
    "def train_linear_regression(X, y, learning_rate=0.01, epochs=1000):\n",
    "    np.random.seed(0)\n",
    "    weights = np.random.rand(X.shape[1], 1)\n",
    "    bias = np.random.rand()\n",
    "\n",
    "    for epoch in range(epochs):\n",
    "        predictions = np.dot(X, weights) + bias\n",
    "        errors = predictions - y\n",
    "\n",
    "        # MSE'ye göre gradyan hesaplama\n",
    "        gradient_weights = np.dot(X.T, errors) / len(y)\n",
    "        gradient_bias = np.mean(errors)\n",
    "\n",
    "        # Parametre Güncelleme\n",
    "        weights -= learning_rate * gradient_weights\n",
    "        bias -= learning_rate * gradient_bias\n",
    "\n",
    "        # Her 100 iterasyonda bir maliyeti yazdırma\n",
    "        if epoch % 100 == 0:\n",
    "            mse = calculate_mse(X, y, weights, bias)\n",
    "            print(f'Epoch {epoch}, Cost: {mse}')\n",
    "\n",
    "    return weights, bias\n",
    "\n",
    "# Daha düşük öğrenme oranı ve daha uzun eğitim süresi\n",
    "new_learning_rate = 0.001\n",
    "new_epochs = 5000\n",
    "trained_weights, trained_bias = train_linear_regression(X_train_np, y_train_np, learning_rate=new_learning_rate, epochs=new_epochs)\n",
    "\n",
    "# Eğitilmiş modelin parametreleri\n",
    "print(f'Trained Weights:\\n{trained_weights}')\n",
    "print(f'Trained Bias: {trained_bias}')\n",
    "\n",
    "# Eğitim ve test MSE değerleri\n",
    "train_mse = calculate_mse(X_train_np, y_train_np, trained_weights, trained_bias)\n",
    "test_mse = calculate_mse(X_test_np, y_test_np, trained_weights, trained_bias)\n",
    "\n",
    "print(f'Training MSE: {train_mse}')\n",
    "print(f'Test MSE: {test_mse}')\n"
   ],
   "metadata": {
    "collapsed": false,
    "ExecuteTime": {
     "end_time": "2023-12-05T07:07:48.523648800Z",
     "start_time": "2023-12-05T07:07:48.343428500Z"
    }
   },
   "id": "6d4b7fbf97352bc1"
  }
 ],
 "metadata": {
  "kernelspec": {
   "display_name": "Python 3",
   "language": "python",
   "name": "python3"
  },
  "language_info": {
   "codemirror_mode": {
    "name": "ipython",
    "version": 2
   },
   "file_extension": ".py",
   "mimetype": "text/x-python",
   "name": "python",
   "nbconvert_exporter": "python",
   "pygments_lexer": "ipython2",
   "version": "2.7.6"
  }
 },
 "nbformat": 4,
 "nbformat_minor": 5
}
