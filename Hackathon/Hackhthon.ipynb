{
 "cells": [
  {
   "cell_type": "markdown",
   "source": [
    "Furkan Bulut 210316011"
   ],
   "metadata": {
    "collapsed": false
   },
   "id": "6e55986714ec1325"
  },
  {
   "cell_type": "code",
   "execution_count": 16,
   "outputs": [
    {
     "data": {
      "text/plain": "   No       Tarih  TP DK USD S YTL  TP DK EUR S YTL  TP DK GBP S YTL  \\\n0   1  03-01-2005           1.3427           1.8321           2.5928   \n1   2  04-01-2005           1.3448           1.8192           2.5695   \n2   3  05-01-2005           1.3492           1.8063           2.5586   \n3   4  06-01-2005           1.3841           1.8337           2.5985   \n4   5  07-01-2005           1.4068           1.8549           2.6347   \n\n   TP DK SEK S YTL  TP DK CHF S YTL  TP DK CAD S YTL  TP DK KWD S YTL  \\\n0          0.20307           1.1872           1.1152           4.5548   \n1          0.20226           1.1785           1.1147           4.6052   \n2          0.19989           1.1677           1.1120           4.6202   \n3          0.20251           1.1807           1.1277           4.7401   \n4          0.20532           1.1961           1.1433           4.8175   \n\n   TP DK SAR S YTL  \n0          0.35800  \n1          0.35858  \n2          0.35977  \n3          0.36907  \n4          0.37513  ",
      "text/html": "<div>\n<style scoped>\n    .dataframe tbody tr th:only-of-type {\n        vertical-align: middle;\n    }\n\n    .dataframe tbody tr th {\n        vertical-align: top;\n    }\n\n    .dataframe thead th {\n        text-align: right;\n    }\n</style>\n<table border=\"1\" class=\"dataframe\">\n  <thead>\n    <tr style=\"text-align: right;\">\n      <th></th>\n      <th>No</th>\n      <th>Tarih</th>\n      <th>TP DK USD S YTL</th>\n      <th>TP DK EUR S YTL</th>\n      <th>TP DK GBP S YTL</th>\n      <th>TP DK SEK S YTL</th>\n      <th>TP DK CHF S YTL</th>\n      <th>TP DK CAD S YTL</th>\n      <th>TP DK KWD S YTL</th>\n      <th>TP DK SAR S YTL</th>\n    </tr>\n  </thead>\n  <tbody>\n    <tr>\n      <th>0</th>\n      <td>1</td>\n      <td>03-01-2005</td>\n      <td>1.3427</td>\n      <td>1.8321</td>\n      <td>2.5928</td>\n      <td>0.20307</td>\n      <td>1.1872</td>\n      <td>1.1152</td>\n      <td>4.5548</td>\n      <td>0.35800</td>\n    </tr>\n    <tr>\n      <th>1</th>\n      <td>2</td>\n      <td>04-01-2005</td>\n      <td>1.3448</td>\n      <td>1.8192</td>\n      <td>2.5695</td>\n      <td>0.20226</td>\n      <td>1.1785</td>\n      <td>1.1147</td>\n      <td>4.6052</td>\n      <td>0.35858</td>\n    </tr>\n    <tr>\n      <th>2</th>\n      <td>3</td>\n      <td>05-01-2005</td>\n      <td>1.3492</td>\n      <td>1.8063</td>\n      <td>2.5586</td>\n      <td>0.19989</td>\n      <td>1.1677</td>\n      <td>1.1120</td>\n      <td>4.6202</td>\n      <td>0.35977</td>\n    </tr>\n    <tr>\n      <th>3</th>\n      <td>4</td>\n      <td>06-01-2005</td>\n      <td>1.3841</td>\n      <td>1.8337</td>\n      <td>2.5985</td>\n      <td>0.20251</td>\n      <td>1.1807</td>\n      <td>1.1277</td>\n      <td>4.7401</td>\n      <td>0.36907</td>\n    </tr>\n    <tr>\n      <th>4</th>\n      <td>5</td>\n      <td>07-01-2005</td>\n      <td>1.4068</td>\n      <td>1.8549</td>\n      <td>2.6347</td>\n      <td>0.20532</td>\n      <td>1.1961</td>\n      <td>1.1433</td>\n      <td>4.8175</td>\n      <td>0.37513</td>\n    </tr>\n  </tbody>\n</table>\n</div>"
     },
     "execution_count": 16,
     "metadata": {},
     "output_type": "execute_result"
    }
   ],
   "source": [
    "import pandas as pd\n",
    "\n",
    "# Dosyayı yükleme\n",
    "file_path = 'C:/Users/FurkanBulut/Desktop/data.xlsx'\n",
    "data = pd.read_excel(file_path) \n",
    "\n",
    "# İlk beş satırı göster\n",
    "data.head()\n"
   ],
   "metadata": {
    "collapsed": false,
    "ExecuteTime": {
     "end_time": "2023-12-05T06:20:45.131348500Z",
     "start_time": "2023-12-05T06:20:44.613212800Z"
    }
   },
   "id": "bde22669f4fc01e9"
  },
  {
   "cell_type": "code",
   "execution_count": 17,
   "outputs": [
    {
     "name": "stdout",
     "output_type": "stream",
     "text": [
      "4512. kaydın INPUT features:\n",
      " No                       4512\n",
      "Tarih              09-12-2022\n",
      "TP DK USD S YTL       18.6538\n",
      "TP DK EUR S YTL       19.6117\n",
      "TP DK GBP S YTL       22.7665\n",
      "TP DK SEK S YTL        1.8047\n",
      "TP DK CHF S YTL       19.8645\n",
      "TP DK CAD S YTL       13.6739\n",
      "TP DK KWD S YTL       61.1098\n",
      "Name: 4511, dtype: object\n",
      "4512. kaydın OUTPUT feature:\n",
      " 4.9603\n"
     ]
    }
   ],
   "source": [
    "# 4512. kaydın giriş özellikleri\n",
    "input_features_4512 = data.iloc[4511, :-1]  # -1, çıkış özelliği hariç tüm sütunları alır\n",
    "print(\"4512. kaydın INPUT features:\\n\", input_features_4512)\n",
    "\n",
    "# 4512. kaydın çıkış özelliği\n",
    "output_feature_4512 = data.iloc[4511, -1]  # Son sütunu alır, çıkış özelliği\n",
    "print(\"4512. kaydın OUTPUT feature:\\n\", output_feature_4512)\n"
   ],
   "metadata": {
    "collapsed": false,
    "ExecuteTime": {
     "end_time": "2023-12-05T06:21:50.766625800Z",
     "start_time": "2023-12-05T06:21:50.745630100Z"
    }
   },
   "id": "e73c7dd1b17ed62a"
  },
  {
   "cell_type": "code",
   "execution_count": 18,
   "outputs": [
    {
     "ename": "NameError",
     "evalue": "name 'df' is not defined",
     "output_type": "error",
     "traceback": [
      "\u001B[1;31m---------------------------------------------------------------------------\u001B[0m",
      "\u001B[1;31mNameError\u001B[0m                                 Traceback (most recent call last)",
      "Cell \u001B[1;32mIn[18], line 6\u001B[0m\n\u001B[0;32m      3\u001B[0m     \u001B[38;5;28;01mreturn\u001B[39;00m ((y_true \u001B[38;5;241m-\u001B[39m y_pred) \u001B[38;5;241m*\u001B[39m\u001B[38;5;241m*\u001B[39m \u001B[38;5;241m2\u001B[39m)\u001B[38;5;241m.\u001B[39mmean()\n\u001B[0;32m      5\u001B[0m \u001B[38;5;66;03m# Test the cost function\u001B[39;00m\n\u001B[1;32m----> 6\u001B[0m y_true_example \u001B[38;5;241m=\u001B[39m \u001B[43mdf\u001B[49m\u001B[38;5;241m.\u001B[39miloc[:, \u001B[38;5;241m-\u001B[39m\u001B[38;5;241m1\u001B[39m]\n\u001B[0;32m      7\u001B[0m y_pred_example \u001B[38;5;241m=\u001B[39m model\u001B[38;5;241m.\u001B[39mpredict(X)  \u001B[38;5;66;03m# Assuming you have a model\u001B[39;00m\n\u001B[0;32m      8\u001B[0m \u001B[38;5;28mprint\u001B[39m(\u001B[38;5;124m\"\u001B[39m\u001B[38;5;124mCost/Loss:\u001B[39m\u001B[38;5;124m\"\u001B[39m, cost_function(y_true_example, y_pred_example))\n",
      "\u001B[1;31mNameError\u001B[0m: name 'df' is not defined"
     ]
    }
   ],
   "source": [
    "def cost_function(y_true, y_pred):\n",
    "    # Mean Squared Error as a simple example\n",
    "    return ((y_true - y_pred) ** 2).mean()\n",
    "\n",
    "# Test the cost function\n",
    "y_true_example = df.iloc[:, -1]\n",
    "y_pred_example = model.predict(X)  # Assuming you have a model\n",
    "print(\"Cost/Loss:\", cost_function(y_true_example, y_pred_example))\n"
   ],
   "metadata": {
    "collapsed": false,
    "ExecuteTime": {
     "end_time": "2023-12-05T06:23:30.226620400Z",
     "start_time": "2023-12-05T06:23:30.176178500Z"
    }
   },
   "id": "88421cbc0465ba47"
  },
  {
   "cell_type": "code",
   "execution_count": 19,
   "outputs": [
    {
     "ename": "NameError",
     "evalue": "name 'y_true_example' is not defined",
     "output_type": "error",
     "traceback": [
      "\u001B[1;31m---------------------------------------------------------------------------\u001B[0m",
      "\u001B[1;31mNameError\u001B[0m                                 Traceback (most recent call last)",
      "Cell \u001B[1;32mIn[19], line 6\u001B[0m\n\u001B[0;32m      3\u001B[0m     \u001B[38;5;28;01mreturn\u001B[39;00m \u001B[38;5;241m2\u001B[39m \u001B[38;5;241m*\u001B[39m (y_pred \u001B[38;5;241m-\u001B[39m y_true) \u001B[38;5;241m/\u001B[39m \u001B[38;5;28mlen\u001B[39m(y_true)\n\u001B[0;32m      5\u001B[0m \u001B[38;5;66;03m# Test the derivative function\u001B[39;00m\n\u001B[1;32m----> 6\u001B[0m \u001B[38;5;28mprint\u001B[39m(\u001B[38;5;124m\"\u001B[39m\u001B[38;5;124mDerivative of Cost/Loss:\u001B[39m\u001B[38;5;124m\"\u001B[39m, cost_derivative(\u001B[43my_true_example\u001B[49m, y_pred_example))\n",
      "\u001B[1;31mNameError\u001B[0m: name 'y_true_example' is not defined"
     ]
    }
   ],
   "source": [
    "def cost_derivative(y_true, y_pred):\n",
    "    # Derivative of Mean Squared Error\n",
    "    return 2 * (y_pred - y_true) / len(y_true)\n",
    "\n",
    "# Test the derivative function\n",
    "print(\"Derivative of Cost/Loss:\", cost_derivative(y_true_example, y_pred_example))\n"
   ],
   "metadata": {
    "collapsed": false,
    "ExecuteTime": {
     "end_time": "2023-12-05T06:23:31.254599900Z",
     "start_time": "2023-12-05T06:23:31.197082900Z"
    }
   },
   "id": "5c4cb61dd8fb8f03"
  },
  {
   "cell_type": "code",
   "execution_count": null,
   "outputs": [],
   "source": [],
   "metadata": {
    "collapsed": false
   },
   "id": "6868934ff346911e"
  }
 ],
 "metadata": {
  "kernelspec": {
   "display_name": "Python 3",
   "language": "python",
   "name": "python3"
  },
  "language_info": {
   "codemirror_mode": {
    "name": "ipython",
    "version": 2
   },
   "file_extension": ".py",
   "mimetype": "text/x-python",
   "name": "python",
   "nbconvert_exporter": "python",
   "pygments_lexer": "ipython2",
   "version": "2.7.6"
  }
 },
 "nbformat": 4,
 "nbformat_minor": 5
}
